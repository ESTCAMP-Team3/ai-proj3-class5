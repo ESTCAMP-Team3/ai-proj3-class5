{
 "cells": [
  {
   "cell_type": "code",
   "execution_count": 1,
   "id": "52b5e10c",
   "metadata": {},
   "outputs": [],
   "source": [
    "from PIL import Image\n",
    "import os\n",
    "import numpy as np"
   ]
  },
  {
   "cell_type": "markdown",
   "id": "ce1e999f",
   "metadata": {},
   "source": [
    "# 1. 데이터 구조 및 포맷 검증"
   ]
  },
  {
   "cell_type": "code",
   "execution_count": null,
   "id": "0f3164a6",
   "metadata": {},
   "outputs": [
    {
     "name": "stdout",
     "output_type": "stream",
     "text": [
      "./ 8\n",
      "./dmd 0\n",
      "./dmd\\gA 0\n",
      "./dmd\\gA\\3 0\n",
      "./dmd\\gA\\3\\s1 11\n",
      "./dmd\\gA\\3\\s6 12\n",
      "./dmd\\gB 0\n",
      "./dmd\\gB\\10 0\n",
      "./dmd\\gB\\10\\s2 11\n",
      "./dmd\\gB\\10\\s5 11\n",
      "./dmd\\gE 0\n",
      "./dmd\\gE\\28 0\n",
      "./dmd\\gE\\28\\s4 11\n",
      "./dmd\\gE\\30 0\n",
      "./dmd\\gE\\30\\s3 11\n"
     ]
    }
   ],
   "source": [
    "root_dir = \"./\"\n",
    "for root, dirs, files in os.walk(root_dir):\n",
    "    print(root, len(files))"
   ]
  },
  {
   "cell_type": "markdown",
   "id": "8b20558d",
   "metadata": {},
   "source": [
    "총 6명의 운전 영상을 담은 샘플.  \n",
    "영상은 각각 다음과 같이 구성되어있음\n",
    "1. RGB 채널, IR 채널(GrayScale), Depth 채널\n",
    "2. 각 채널마다 Body 캠, Hand 캠, Face 캠 총 3가지씩\n",
    "+ 전체 영상을 한번에 보여주는 Mosaic 영상\n",
    "→ 총 영상 개수는 10개\n",
    "\n",
    "나머지 남은 파일은 json 파일"
   ]
  },
  {
   "cell_type": "code",
   "execution_count": null,
   "id": "9a2b4a99",
   "metadata": {},
   "outputs": [
    {
     "data": {
      "text/plain": [
       "['gA_3_s1_2019-03-08T10;27;38+01;00_depth_body.avi',\n",
       " 'gA_3_s1_2019-03-08T10;27;38+01;00_depth_face.avi',\n",
       " 'gA_3_s1_2019-03-08T10;27;38+01;00_depth_hands.avi',\n",
       " 'gA_3_s1_2019-03-08T10;27;38+01;00_ir_body.mp4',\n",
       " 'gA_3_s1_2019-03-08T10;27;38+01;00_ir_face.mp4',\n",
       " 'gA_3_s1_2019-03-08T10;27;38+01;00_ir_hands.mp4',\n",
       " 'gA_3_s1_2019-03-08T10;27;38+01;00_rgb_ann_distraction.json',\n",
       " 'gA_3_s1_2019-03-08T10;27;38+01;00_rgb_body.mp4',\n",
       " 'gA_3_s1_2019-03-08T10;27;38+01;00_rgb_face.mp4',\n",
       " 'gA_3_s1_2019-03-08T10;27;38+01;00_rgb_hands.mp4',\n",
       " 'gA_3_s1_2019-03-08T10;27;38+01;00_rgb_mosaic.avi']"
      ]
     },
     "execution_count": 9,
     "metadata": {},
     "output_type": "execute_result"
    }
   ],
   "source": [
    "os.listdir(\"./dmd/gA/3/s1\")"
   ]
  },
  {
   "cell_type": "code",
   "execution_count": 8,
   "id": "dadad4d4",
   "metadata": {},
   "outputs": [
    {
     "name": "stdout",
     "output_type": "stream",
     "text": [
      "gA/3/s1:  ['gA_3_s1_2019-03-08T10;27;38+01;00_depth_body.avi', 'gA_3_s1_2019-03-08T10;27;38+01;00_depth_face.avi', 'gA_3_s1_2019-03-08T10;27;38+01;00_depth_hands.avi', 'gA_3_s1_2019-03-08T10;27;38+01;00_ir_body.mp4', 'gA_3_s1_2019-03-08T10;27;38+01;00_ir_face.mp4', 'gA_3_s1_2019-03-08T10;27;38+01;00_ir_hands.mp4', 'gA_3_s1_2019-03-08T10;27;38+01;00_rgb_ann_distraction.json', 'gA_3_s1_2019-03-08T10;27;38+01;00_rgb_body.mp4', 'gA_3_s1_2019-03-08T10;27;38+01;00_rgb_face.mp4', 'gA_3_s1_2019-03-08T10;27;38+01;00_rgb_hands.mp4', 'gA_3_s1_2019-03-08T10;27;38+01;00_rgb_mosaic.avi']\n",
      "gA/3/s6:  ['gA_3_s6_2019-03-22T10;25;17+01;00_depth_body.avi', 'gA_3_s6_2019-03-22T10;25;17+01;00_depth_face.avi', 'gA_3_s6_2019-03-22T10;25;17+01;00_depth_hands.avi', 'gA_3_s6_2019-03-22T10;25;17+01;00_ir_body.mp4', 'gA_3_s6_2019-03-22T10;25;17+01;00_ir_face.mp4', 'gA_3_s6_2019-03-22T10;25;17+01;00_ir_hands.mp4', 'gA_3_s6_2019-03-22T10;25;17+01;00_rgb_ann_gaze.json', 'gA_3_s6_2019-03-22T10;25;17+01;00_rgb_ann_hands.json', 'gA_3_s6_2019-03-22T10;25;17+01;00_rgb_body.mp4', 'gA_3_s6_2019-03-22T10;25;17+01;00_rgb_face.mp4', 'gA_3_s6_2019-03-22T10;25;17+01;00_rgb_hands.mp4', 'gA_3_s6_2019-03-22T10;25;17+01;00_rgb_mosaic.avi']\n",
      "gB/10/s2:  ['gB_10_s2_2019-03-11T15;15;21+01;00_depth_body.avi', 'gB_10_s2_2019-03-11T15;15;21+01;00_depth_face.avi', 'gB_10_s2_2019-03-11T15;15;21+01;00_depth_hands.avi', 'gB_10_s2_2019-03-11T15;15;21+01;00_ir_body.mp4', 'gB_10_s2_2019-03-11T15;15;21+01;00_ir_face.mp4', 'gB_10_s2_2019-03-11T15;15;21+01;00_ir_hands.mp4', 'gB_10_s2_2019-03-11T15;15;21+01;00_rgb_ann_distraction.json', 'gB_10_s2_2019-03-11T15;15;21+01;00_rgb_body.mp4', 'gB_10_s2_2019-03-11T15;15;21+01;00_rgb_face.mp4', 'gB_10_s2_2019-03-11T15;15;21+01;00_rgb_hands.mp4', 'gB_10_s2_2019-03-11T15;15;21+01;00_rgb_mosaic.avi']\n",
      "gB/10/s5:  ['gB_10_s5_2019-03-12T10;35;20+01;00_depth_body.avi', 'gB_10_s5_2019-03-12T10;35;20+01;00_depth_face.avi', 'gB_10_s5_2019-03-12T10;35;20+01;00_depth_hands.avi', 'gB_10_s5_2019-03-12T10;35;20+01;00_ir_body.mp4', 'gB_10_s5_2019-03-12T10;35;20+01;00_ir_face.mp4', 'gB_10_s5_2019-03-12T10;35;20+01;00_ir_hands.mp4', 'gB_10_s5_2019-03-12T10;35;20+01;00_rgb_ann_drowsiness.json', 'gB_10_s5_2019-03-12T10;35;20+01;00_rgb_body.mp4', 'gB_10_s5_2019-03-12T10;35;20+01;00_rgb_face.mp4', 'gB_10_s5_2019-03-12T10;35;20+01;00_rgb_hands.mp4', 'gB_10_s5_2019-03-12T10;35;20+01;00_rgb_mosaic.avi']\n",
      "gE/28/s4:  ['gE_28_s4_2019-03-21T10;19;50+01;00_depth_body.avi', 'gE_28_s4_2019-03-21T10;19;50+01;00_depth_face.avi', 'gE_28_s4_2019-03-21T10;19;50+01;00_depth_hands.avi', 'gE_28_s4_2019-03-21T10;19;50+01;00_ir_body.mp4', 'gE_28_s4_2019-03-21T10;19;50+01;00_ir_face.mp4', 'gE_28_s4_2019-03-21T10;19;50+01;00_ir_hands.mp4', 'gE_28_s4_2019-03-21T10;19;50+01;00_rgb_ann_distraction.json', 'gE_28_s4_2019-03-21T10;19;50+01;00_rgb_body.mp4', 'gE_28_s4_2019-03-21T10;19;50+01;00_rgb_face.mp4', 'gE_28_s4_2019-03-21T10;19;50+01;00_rgb_hands.mp4', 'gE_28_s4_2019-03-21T10;19;50+01;00_rgb_mosaic.avi']\n",
      "gE/30/s3:  ['gE_30_s3_2019-03-15T10;56;02+01;00_depth_body.avi', 'gE_30_s3_2019-03-15T10;56;02+01;00_depth_face.avi', 'gE_30_s3_2019-03-15T10;56;02+01;00_depth_hands.avi', 'gE_30_s3_2019-03-15T10;56;02+01;00_ir_body.mp4', 'gE_30_s3_2019-03-15T10;56;02+01;00_ir_face.mp4', 'gE_30_s3_2019-03-15T10;56;02+01;00_ir_hands.mp4', 'gE_30_s3_2019-03-15T10;56;02+01;00_rgb_ann_distraction.json', 'gE_30_s3_2019-03-15T10;56;02+01;00_rgb_body.mp4', 'gE_30_s3_2019-03-15T10;56;02+01;00_rgb_face.mp4', 'gE_30_s3_2019-03-15T10;56;02+01;00_rgb_hands.mp4', 'gE_30_s3_2019-03-15T10;56;02+01;00_rgb_mosaic.avi']\n"
     ]
    }
   ],
   "source": [
    "print(\"gA/3/s1: \", os.listdir(\"./dmd/gA/3/s1\"))\n",
    "print(\"gA/3/s6: \", os.listdir(\"./dmd/gA/3/s6\"))\n",
    "print(\"gB/10/s2: \", os.listdir(\"./dmd/gB/10/s2\"))\n",
    "print(\"gB/10/s5: \", os.listdir(\"./dmd/gB/10/s5\"))\n",
    "print(\"gE/28/s4: \", os.listdir(\"./dmd/gE/28/s4\"))\n",
    "print(\"gE/30/s3: \", os.listdir(\"./dmd/gE/30/s3\"))"
   ]
  },
  {
   "cell_type": "markdown",
   "id": "027eaf5e",
   "metadata": {},
   "source": [
    "영상의 포맷들은 다음과 같이 되어있음\n",
    "- MP4 파일 → IR 채널 영상, RGB 채널 영상\n",
    "- AVI 파일 → Depth 채널, 모자이크 영상"
   ]
  },
  {
   "cell_type": "markdown",
   "id": "5246f94a",
   "metadata": {},
   "source": [
    "# 2. 라벨 정합성 점검\n",
    "→ 본 데이터셋은 라벨링이 따로 되어 있지 않음  \n",
    "→ 졸음 운전보다는 전체적인 운전 습관 / 양상에 대한 영상들이 대부분  \n",
    "→ 졸음 운전이 아닌 상태를 정의하고 학습하는데 사용 가능?  "
   ]
  },
  {
   "cell_type": "markdown",
   "id": "95d7863e",
   "metadata": {},
   "source": [
    "# 3. 데이터 품질 점검"
   ]
  },
  {
   "cell_type": "markdown",
   "id": "aa9d6e72",
   "metadata": {},
   "source": [
    "# 라이선스 명시 확인"
   ]
  },
  {
   "attachments": {
    "image.png": {
     "image/png": "[encoded data removed]"
    }
   },
   "cell_type": "markdown",
   "id": "b20f9798",
   "metadata": {},
   "source": [
    "![image.png](attachment:image.png)"
   ]
  },
  {
   "cell_type": "markdown",
   "id": "ca1465c6",
   "metadata": {},
   "source": [
    "모든 데이터 세트의 저작권은 Vicomtech에 있으며 [크리에이티브 커먼즈 저작자표시-비영리-변경금지 4.0 라이선스](https://creativecommons.org/licenses/by-nc-nd/4.0/)에 따라 게시됩니다.   \n",
    "즉, 저작자가 지정한 방식으로 저작물의 출처를 표시해야 하며, 이 저작물을 상업적 목적으로 사용할 수 없으며, 자료를 리믹스, 변형 또는 구축하는 경우 수정된 자료를 배포할 수 없습니다."
   ]
  },
  {
   "cell_type": "markdown",
   "id": "3c01621e",
   "metadata": {},
   "source": [
    "# 전체 총평:  \n",
    "# 운전 상태를 보는데에는 탁월한 자료이지만, 졸음운전은 아니다...? → 학습에 사용하진 않아도 될듯"
   ]
  }
 ],
 "metadata": {
  "kernelspec": {
   "display_name": "base",
   "language": "python",
   "name": "python3"
  },
  "language_info": {
   "codemirror_mode": {
    "name": "ipython",
    "version": 3
   },
   "file_extension": ".py",
   "mimetype": "text/x-python",
   "name": "python",
   "nbconvert_exporter": "python",
   "pygments_lexer": "ipython3",
   "version": "3.12.7"
  }
 },
 "nbformat": 4,
 "nbformat_minor": 5
}
