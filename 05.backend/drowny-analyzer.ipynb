{
 "cells": [
  {
   "cell_type": "code",
   "execution_count": 1,
   "id": "ff67f391",
   "metadata": {},
   "outputs": [],
   "source": [
    "from confluent_kafka import Consumer, KafkaException, KafkaError\n",
    "\n",
    "conf = {\n",
    "    'bootstrap.servers': 'kafka.dongango.com:9094',\n",
    "    'group.id': 'downy_consumer',                 # Consumer 그룹 ID\n",
    "    'auto.offset.reset': 'latest'                  # 가장 처음부터 읽기\n",
    "}"
   ]
  },
  {
   "cell_type": "code",
   "execution_count": 2,
   "id": "947d057d",
   "metadata": {},
   "outputs": [],
   "source": [
    "def get_kafka_topic():\n",
    "    return \"gC_11_s5_2019-03-12T09-08-15-01-00_rgb_face-label.mp4\""
   ]
  },
  {
   "cell_type": "code",
   "execution_count": 3,
   "id": "65317c83",
   "metadata": {},
   "outputs": [
    {
     "name": "stdout",
     "output_type": "stream",
     "text": [
      "Consuming messages from topic: gC_11_s5_2019-03-12T09-08-15-01-00_rgb_face-label.mp4\n",
      "⏹️ 소비 중단\n"
     ]
    },
    {
     "name": "stderr",
     "output_type": "stream",
     "text": [
      "%4|1756388561.392|MAXPOLL|rdkafka#consumer-1| [thrd:main]: Application maximum poll interval (300000ms) exceeded by 223ms (adjust max.poll.interval.ms for long-running message processing): leaving group\n"
     ]
    }
   ],
   "source": [
    "consumer = Consumer(conf)\n",
    "topic = get_kafka_topic()\n",
    "consumer.subscribe([topic])\n",
    "\n",
    "print(f\"Consuming messages from topic: {topic}\")\n",
    "\n",
    "try:\n",
    "    while True:\n",
    "        msg = consumer.poll(timeout=1.0)  # 메시지를 기다림\n",
    "        if msg is None:\n",
    "            continue\n",
    "        if msg.error():\n",
    "            if msg.error().code() == KafkaError._PARTITION_EOF:\n",
    "                # 파티션 끝에 도달했을 경우 (더 읽을 데이터 없음)\n",
    "                continue\n",
    "            else:\n",
    "                raise KafkaException(msg.error())\n",
    "        else:\n",
    "            print(f\"Received message: {msg.value().decode('utf-8')} \"\n",
    "                  f\"(topic={msg.topic()}, partition={msg.partition()}, offset={msg.offset()})\")\n",
    "\n",
    "except KeyboardInterrupt:\n",
    "    print(\"⏹️ 소비 중단\")"
   ]
  }
 ],
 "metadata": {
  "kernelspec": {
   "display_name": "dlp",
   "language": "python",
   "name": "python3"
  },
  "language_info": {
   "codemirror_mode": {
    "name": "ipython",
    "version": 3
   },
   "file_extension": ".py",
   "mimetype": "text/x-python",
   "name": "python",
   "nbconvert_exporter": "python",
   "pygments_lexer": "ipython3",
   "version": "3.11.13"
  }
 },
 "nbformat": 4,
 "nbformat_minor": 5
}
