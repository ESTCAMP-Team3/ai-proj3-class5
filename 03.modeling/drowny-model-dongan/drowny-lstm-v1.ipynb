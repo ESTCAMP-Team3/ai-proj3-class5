{
 "cells": [
  {
   "cell_type": "code",
   "execution_count": 53,
   "id": "eb363d77",
   "metadata": {},
   "outputs": [],
   "source": [
    "# train_drowsiness_lstm.py\n",
    "import os, re, json, math, random, shutil\n",
    "from pathlib import Path\n",
    "from typing import Dict, List, Tuple\n",
    "import numpy as np\n",
    "import pandas as pd\n",
    "from collections import Counter\n",
    "\n",
    "import tensorflow as tf\n",
    "from tensorflow.keras import layers, models, callbacks, optimizers"
   ]
  },
  {
   "cell_type": "code",
   "execution_count": 54,
   "id": "1ef4e7b7",
   "metadata": {},
   "outputs": [],
   "source": [
    "# 기본값 설정\n",
    "\n",
    "RANDOM_SEED = 42\n",
    "random.seed(RANDOM_SEED)\n",
    "np.random.seed(RANDOM_SEED)\n",
    "tf.random.set_seed(RANDOM_SEED)\n"
   ]
  },
  {
   "cell_type": "markdown",
   "id": "97edd48b",
   "metadata": {},
   "source": [
    "#### 유형 데이타셋 준비"
   ]
  },
  {
   "cell_type": "code",
   "execution_count": 55,
   "id": "fbf54178",
   "metadata": {},
   "outputs": [],
   "source": [
    "FEATURE_COLS = [\n",
    "    \"EAR\",\n",
    "    \"MAR\",\n",
    "    \"yawn_rate_per_min\",\n",
    "    \"blink_rate_per_min\",\n",
    "    \"avg_blink_dur_sec\",\n",
    "    \"longest_eye_closure_sec\",\n",
    "]\n",
    "\n",
    "# level: -1,0,1,2,3  -> 총 5클래스. (-1 포함)\n",
    "CLS_LEVELS = [-1, 0, 1, 2, 3]\n",
    "LEVEL_TO_INDEX = {lvl: i for i, lvl in enumerate(CLS_LEVELS)}\n",
    "INDEX_TO_LEVEL = {i: lvl for lvl, i in LEVEL_TO_INDEX.items()}"
   ]
  },
  {
   "cell_type": "code",
   "execution_count": 56,
   "id": "0912354c",
   "metadata": {},
   "outputs": [],
   "source": [
    "# 데이타셋 구성을 위한 기본 합수들..\n",
    "\n",
    "def _safe_symlink(src: Path, dst: Path):\n",
    "    # 숨김 파일(. , ._ 시작)은 무시\n",
    "    if src.name.startswith(\".\") or src.name.startswith(\"._\"):\n",
    "        return\n",
    "\n",
    "    dst.parent.mkdir(parents=True, exist_ok=True)\n",
    "    try:\n",
    "        if dst.exists() or dst.is_symlink():\n",
    "            dst.unlink()\n",
    "        os.symlink(src.resolve(), dst)\n",
    "    except Exception:\n",
    "        # 윈도우/권한 이슈 대비: 복사로 폴백\n",
    "        shutil.copy2(src, dst)\n",
    "\n",
    "def scan_pairs(data_dir: Path) -> List[Tuple[Path, Path]]:\n",
    "    \"\"\"\n",
    "    data_dir 아래의 CSV/JSON 쌍을 찾아 반환.\n",
    "    파일명(확장자 제외)이 일치하면 쌍으로 간주.\n",
    "    \"\"\"\n",
    "    csvs = {}\n",
    "    jsons = {}\n",
    "    for p in data_dir.glob(\"**/*\"):\n",
    "        if p.is_file():\n",
    "            stem = p.stem  # 파일명(확장자 제외)\n",
    "            if p.suffix.lower() == \".csv\":\n",
    "                csvs[stem] = p\n",
    "            elif p.suffix.lower() == \".json\":\n",
    "                jsons[stem] = p\n",
    "    pairs = []\n",
    "    for stem, csv_path in csvs.items():\n",
    "        if stem in jsons:\n",
    "            pairs.append((csv_path, jsons[stem]))\n",
    "    return sorted(pairs)\n",
    "\n",
    "def split_and_link(pairs: List[Tuple[Path, Path]], out_dir: Path, train_ratio=0.8):\n",
    "    \"\"\"\n",
    "    쌍 목록을 8:2로 분할하고, out_dir/{train,val}에 심볼릭링크(또는 복사) 생성.\n",
    "    \"\"\"\n",
    "    random.shuffle(pairs)\n",
    "    n_total = len(pairs)\n",
    "    n_train = int(round(n_total * train_ratio))\n",
    "    train_pairs = pairs[:n_train]\n",
    "    val_pairs = pairs[n_train:]\n",
    "\n",
    "    for split_name, subset in [(\"train\", train_pairs), (\"val\", val_pairs)]:\n",
    "        for csv_path, json_path in subset:\n",
    "            rel = csv_path.name  # 파일명만 사용\n",
    "            dst_csv = out_dir / split_name / rel\n",
    "            dst_json = out_dir / split_name / json_path.name\n",
    "            _safe_symlink(csv_path, dst_csv)\n",
    "            _safe_symlink(json_path, dst_json)\n",
    "    return train_pairs, val_pairs"
   ]
  },
  {
   "cell_type": "code",
   "execution_count": 73,
   "id": "66d3b210",
   "metadata": {},
   "outputs": [
    {
     "name": "stdout",
     "output_type": "stream",
     "text": [
      ".\n",
      "ls: ../../../dataset/origin: No such file or directory\n"
     ]
    }
   ],
   "source": [
    "!pwd\n",
    "!ls -l ../../../dataset/origin"
   ]
  },
  {
   "cell_type": "code",
   "execution_count": 74,
   "id": "7a94ce56",
   "metadata": {},
   "outputs": [
    {
     "ename": "FileNotFoundError",
     "evalue": "[Errno 2] No such file or directory",
     "output_type": "error",
     "traceback": [
      "\u001b[31m---------------------------------------------------------------------------\u001b[39m",
      "\u001b[31mFileNotFoundError\u001b[39m                         Traceback (most recent call last)",
      "\u001b[36mCell\u001b[39m\u001b[36m \u001b[39m\u001b[32mIn[74]\u001b[39m\u001b[32m, line 2\u001b[39m\n\u001b[32m      1\u001b[39m \u001b[38;5;28;01mimport\u001b[39;00m\u001b[38;5;250m \u001b[39m\u001b[34;01mos\u001b[39;00m\n\u001b[32m----> \u001b[39m\u001b[32m2\u001b[39m \u001b[38;5;28mprint\u001b[39m(\u001b[43mos\u001b[49m\u001b[43m.\u001b[49m\u001b[43mgetcwd\u001b[49m\u001b[43m(\u001b[49m\u001b[43m)\u001b[49m)\n",
      "\u001b[31mFileNotFoundError\u001b[39m: [Errno 2] No such file or directory"
     ]
    }
   ],
   "source": [
    "import os\n",
    "print(os.getcwd())"
   ]
  },
  {
   "cell_type": "code",
   "execution_count": 69,
   "id": "8a639253",
   "metadata": {},
   "outputs": [],
   "source": [
    "# 각자 데이터셋 디렉토리 설정\n",
    "data_root = \"../../../dataset/origin\"\n",
    "prepared_dir = \"prepared-dataset\""
   ]
  },
  {
   "cell_type": "code",
   "execution_count": 68,
   "id": "8508439e",
   "metadata": {},
   "outputs": [
    {
     "name": "stdout",
     "output_type": "stream",
     "text": [
      "data_root = ../../dataset/origin\n"
     ]
    },
    {
     "ename": "FileNotFoundError",
     "evalue": "[Errno 2] No such file or directory",
     "output_type": "error",
     "traceback": [
      "\u001b[31m---------------------------------------------------------------------------\u001b[39m",
      "\u001b[31mFileNotFoundError\u001b[39m                         Traceback (most recent call last)",
      "\u001b[36mCell\u001b[39m\u001b[36m \u001b[39m\u001b[32mIn[68]\u001b[39m\u001b[32m, line 2\u001b[39m\n\u001b[32m      1\u001b[39m \u001b[38;5;28mprint\u001b[39m(\u001b[33m\"\u001b[39m\u001b[33mdata_root =\u001b[39m\u001b[33m\"\u001b[39m, data_root)\n\u001b[32m----> \u001b[39m\u001b[32m2\u001b[39m data_root = \u001b[43mPath\u001b[49m\u001b[43m(\u001b[49m\u001b[43mdata_root\u001b[49m\u001b[43m)\u001b[49m\u001b[43m.\u001b[49m\u001b[43mexpanduser\u001b[49m\u001b[43m(\u001b[49m\u001b[43m)\u001b[49m\u001b[43m.\u001b[49m\u001b[43mresolve\u001b[49m\u001b[43m(\u001b[49m\u001b[43m)\u001b[49m\n\u001b[32m      3\u001b[39m prep_dir = Path(prepared_dir).resolve()\n\u001b[32m      4\u001b[39m prep_dir.mkdir(parents=\u001b[38;5;28;01mTrue\u001b[39;00m, exist_ok=\u001b[38;5;28;01mTrue\u001b[39;00m)\n",
      "\u001b[36mFile \u001b[39m\u001b[32m/opt/anaconda3/envs/dlp/lib/python3.11/pathlib.py:993\u001b[39m, in \u001b[36mPath.resolve\u001b[39m\u001b[34m(self, strict)\u001b[39m\n\u001b[32m    990\u001b[39m         \u001b[38;5;28;01mraise\u001b[39;00m \u001b[38;5;167;01mRuntimeError\u001b[39;00m(\u001b[33m\"\u001b[39m\u001b[33mSymlink loop from \u001b[39m\u001b[38;5;132;01m%r\u001b[39;00m\u001b[33m\"\u001b[39m % e.filename)\n\u001b[32m    992\u001b[39m \u001b[38;5;28;01mtry\u001b[39;00m:\n\u001b[32m--> \u001b[39m\u001b[32m993\u001b[39m     s = \u001b[43mos\u001b[49m\u001b[43m.\u001b[49m\u001b[43mpath\u001b[49m\u001b[43m.\u001b[49m\u001b[43mrealpath\u001b[49m\u001b[43m(\u001b[49m\u001b[38;5;28;43mself\u001b[39;49m\u001b[43m,\u001b[49m\u001b[43m \u001b[49m\u001b[43mstrict\u001b[49m\u001b[43m=\u001b[49m\u001b[43mstrict\u001b[49m\u001b[43m)\u001b[49m\n\u001b[32m    994\u001b[39m \u001b[38;5;28;01mexcept\u001b[39;00m \u001b[38;5;167;01mOSError\u001b[39;00m \u001b[38;5;28;01mas\u001b[39;00m e:\n\u001b[32m    995\u001b[39m     check_eloop(e)\n",
      "\u001b[36mFile \u001b[39m\u001b[32m<frozen posixpath>:417\u001b[39m, in \u001b[36mrealpath\u001b[39m\u001b[34m(filename, strict)\u001b[39m\n",
      "\u001b[36mFile \u001b[39m\u001b[32m<frozen posixpath>:404\u001b[39m, in \u001b[36mabspath\u001b[39m\u001b[34m(path)\u001b[39m\n",
      "\u001b[31mFileNotFoundError\u001b[39m: [Errno 2] No such file or directory"
     ]
    }
   ],
   "source": [
    "print(\"data_root =\", data_root)\n",
    "data_root = Path(data_root).expanduser().resolve()\n",
    "prep_dir = Path(prepared_dir).resolve()\n",
    "prep_dir.mkdir(parents=True, exist_ok=True)"
   ]
  },
  {
   "cell_type": "code",
   "execution_count": 52,
   "id": "a325c2d9",
   "metadata": {},
   "outputs": [
    {
     "ename": "OSError",
     "evalue": "[Errno 5] Input/output error: '/Volumes/EX_SSD_1T/와섭 AI 프로젝트/3차/40.개발/dataset/origin'",
     "output_type": "error",
     "traceback": [
      "\u001b[31m---------------------------------------------------------------------------\u001b[39m",
      "\u001b[31mOSError\u001b[39m                                   Traceback (most recent call last)",
      "\u001b[36mCell\u001b[39m\u001b[36m \u001b[39m\u001b[32mIn[52]\u001b[39m\u001b[32m, line 2\u001b[39m\n\u001b[32m      1\u001b[39m \u001b[38;5;66;03m# 스캔 & 분할 & 링크\u001b[39;00m\n\u001b[32m----> \u001b[39m\u001b[32m2\u001b[39m pairs = \u001b[43mscan_pairs\u001b[49m\u001b[43m(\u001b[49m\u001b[43mdata_root\u001b[49m\u001b[43m)\u001b[49m\n\u001b[32m      3\u001b[39m \u001b[38;5;28mprint\u001b[39m(\u001b[33mf\u001b[39m\u001b[33m\"\u001b[39m\u001b[33m총 파일쌍: \u001b[39m\u001b[38;5;132;01m{\u001b[39;00m\u001b[38;5;28mlen\u001b[39m(pairs)\u001b[38;5;132;01m}\u001b[39;00m\u001b[33m\"\u001b[39m)\n\u001b[32m      4\u001b[39m train_pairs, val_pairs = split_and_link(pairs, prep_dir, train_ratio=\u001b[32m0.8\u001b[39m)\n",
      "\u001b[36mCell\u001b[39m\u001b[36m \u001b[39m\u001b[32mIn[49]\u001b[39m\u001b[32m, line 24\u001b[39m, in \u001b[36mscan_pairs\u001b[39m\u001b[34m(data_dir)\u001b[39m\n\u001b[32m     22\u001b[39m csvs = {}\n\u001b[32m     23\u001b[39m jsons = {}\n\u001b[32m---> \u001b[39m\u001b[32m24\u001b[39m \u001b[43m\u001b[49m\u001b[38;5;28;43;01mfor\u001b[39;49;00m\u001b[43m \u001b[49m\u001b[43mp\u001b[49m\u001b[43m \u001b[49m\u001b[38;5;129;43;01min\u001b[39;49;00m\u001b[43m \u001b[49m\u001b[43mdata_dir\u001b[49m\u001b[43m.\u001b[49m\u001b[43mglob\u001b[49m\u001b[43m(\u001b[49m\u001b[33;43m\"\u001b[39;49m\u001b[33;43m**/*\u001b[39;49m\u001b[33;43m\"\u001b[39;49m\u001b[43m)\u001b[49m\u001b[43m:\u001b[49m\n\u001b[32m     25\u001b[39m \u001b[43m    \u001b[49m\u001b[38;5;28;43;01mif\u001b[39;49;00m\u001b[43m \u001b[49m\u001b[43mp\u001b[49m\u001b[43m.\u001b[49m\u001b[43mis_file\u001b[49m\u001b[43m(\u001b[49m\u001b[43m)\u001b[49m\u001b[43m:\u001b[49m\n\u001b[32m     26\u001b[39m \u001b[43m        \u001b[49m\u001b[43mstem\u001b[49m\u001b[43m \u001b[49m\u001b[43m=\u001b[49m\u001b[43m \u001b[49m\u001b[43mp\u001b[49m\u001b[43m.\u001b[49m\u001b[43mstem\u001b[49m\u001b[43m  \u001b[49m\u001b[38;5;66;43;03m# 파일명(확장자 제외)\u001b[39;49;00m\n",
      "\u001b[36mFile \u001b[39m\u001b[32m/opt/anaconda3/envs/dlp/lib/python3.11/pathlib.py:953\u001b[39m, in \u001b[36mPath.glob\u001b[39m\u001b[34m(self, pattern)\u001b[39m\n\u001b[32m    951\u001b[39m     pattern_parts.append(\u001b[33m'\u001b[39m\u001b[33m'\u001b[39m)\n\u001b[32m    952\u001b[39m selector = _make_selector(\u001b[38;5;28mtuple\u001b[39m(pattern_parts), \u001b[38;5;28mself\u001b[39m._flavour)\n\u001b[32m--> \u001b[39m\u001b[32m953\u001b[39m \u001b[43m\u001b[49m\u001b[38;5;28;43;01mfor\u001b[39;49;00m\u001b[43m \u001b[49m\u001b[43mp\u001b[49m\u001b[43m \u001b[49m\u001b[38;5;129;43;01min\u001b[39;49;00m\u001b[43m \u001b[49m\u001b[43mselector\u001b[49m\u001b[43m.\u001b[49m\u001b[43mselect_from\u001b[49m\u001b[43m(\u001b[49m\u001b[38;5;28;43mself\u001b[39;49m\u001b[43m)\u001b[49m\u001b[43m:\u001b[49m\n\u001b[32m    954\u001b[39m \u001b[43m    \u001b[49m\u001b[38;5;28;43;01myield\u001b[39;49;00m\u001b[43m \u001b[49m\u001b[43mp\u001b[49m\n",
      "\u001b[36mFile \u001b[39m\u001b[32m/opt/anaconda3/envs/dlp/lib/python3.11/pathlib.py:408\u001b[39m, in \u001b[36m_RecursiveWildcardSelector._select_from\u001b[39m\u001b[34m(self, parent_path, is_dir, exists, scandir)\u001b[39m\n\u001b[32m    406\u001b[39m successor_select = \u001b[38;5;28mself\u001b[39m.successor._select_from\n\u001b[32m    407\u001b[39m \u001b[38;5;28;01mfor\u001b[39;00m starting_point \u001b[38;5;129;01min\u001b[39;00m \u001b[38;5;28mself\u001b[39m._iterate_directories(parent_path, is_dir, scandir):\n\u001b[32m--> \u001b[39m\u001b[32m408\u001b[39m \u001b[43m    \u001b[49m\u001b[38;5;28;43;01mfor\u001b[39;49;00m\u001b[43m \u001b[49m\u001b[43mp\u001b[49m\u001b[43m \u001b[49m\u001b[38;5;129;43;01min\u001b[39;49;00m\u001b[43m \u001b[49m\u001b[43msuccessor_select\u001b[49m\u001b[43m(\u001b[49m\u001b[43mstarting_point\u001b[49m\u001b[43m,\u001b[49m\u001b[43m \u001b[49m\u001b[43mis_dir\u001b[49m\u001b[43m,\u001b[49m\u001b[43m \u001b[49m\u001b[43mexists\u001b[49m\u001b[43m,\u001b[49m\u001b[43m \u001b[49m\u001b[43mscandir\u001b[49m\u001b[43m)\u001b[49m\u001b[43m:\u001b[49m\n\u001b[32m    409\u001b[39m \u001b[43m        \u001b[49m\u001b[38;5;28;43;01mif\u001b[39;49;00m\u001b[43m \u001b[49m\u001b[43mp\u001b[49m\u001b[43m \u001b[49m\u001b[38;5;129;43;01mnot\u001b[39;49;00m\u001b[43m \u001b[49m\u001b[38;5;129;43;01min\u001b[39;49;00m\u001b[43m \u001b[49m\u001b[43myielded\u001b[49m\u001b[43m:\u001b[49m\n\u001b[32m    410\u001b[39m \u001b[43m            \u001b[49m\u001b[38;5;28;43;01myield\u001b[39;49;00m\u001b[43m \u001b[49m\u001b[43mp\u001b[49m\n",
      "\u001b[36mFile \u001b[39m\u001b[32m/opt/anaconda3/envs/dlp/lib/python3.11/pathlib.py:356\u001b[39m, in \u001b[36m_WildcardSelector._select_from\u001b[39m\u001b[34m(self, parent_path, is_dir, exists, scandir)\u001b[39m\n\u001b[32m    354\u001b[39m \u001b[38;5;28;01mtry\u001b[39;00m:\n\u001b[32m    355\u001b[39m     \u001b[38;5;28;01mwith\u001b[39;00m scandir(parent_path) \u001b[38;5;28;01mas\u001b[39;00m scandir_it:\n\u001b[32m--> \u001b[39m\u001b[32m356\u001b[39m         entries = \u001b[38;5;28mlist\u001b[39m(scandir_it)\n\u001b[32m    357\u001b[39m     \u001b[38;5;28;01mfor\u001b[39;00m entry \u001b[38;5;129;01min\u001b[39;00m entries:\n\u001b[32m    358\u001b[39m         \u001b[38;5;28;01mif\u001b[39;00m \u001b[38;5;28mself\u001b[39m.dironly:\n",
      "\u001b[31mOSError\u001b[39m: [Errno 5] Input/output error: '/Volumes/EX_SSD_1T/와섭 AI 프로젝트/3차/40.개발/dataset/origin'"
     ]
    }
   ],
   "source": [
    "# 스캔 & 분할 & 링크\n",
    "pairs = scan_pairs(data_root)\n",
    "print(f\"총 파일쌍: {len(pairs)}\")\n",
    "train_pairs, val_pairs = split_and_link(pairs, prep_dir, train_ratio=0.8)\n",
    "print(f\"학습: {len(train_pairs)} / 검증: {len(val_pairs)}\")"
   ]
  },
  {
   "cell_type": "markdown",
   "id": "0b42a096",
   "metadata": {},
   "source": [
    "#### 라벨 관련 함수들"
   ]
  },
  {
   "cell_type": "code",
   "execution_count": 8,
   "id": "825de889",
   "metadata": {},
   "outputs": [],
   "source": [
    "# -------------------------\n",
    "# 라벨 JSON 해석 (유연 파서)\n",
    "# -------------------------\n",
    "def parse_label_json(json_path: Path) -> List[Tuple[int, int, int]]:\n",
    "    \"\"\"\n",
    "    라벨 JSON을 다양한 스키마로 수용하여 [(start, end, level), ...] 리스트로 변환.\n",
    "    - end는 inclusive로 간주 (start <= frame <= end)\n",
    "    - 인식 실패 시 빈 리스트\n",
    "    \"\"\"\n",
    "    with open(json_path, \"r\", encoding=\"utf-8\") as f:\n",
    "        data = json.load(f)\n",
    "\n",
    "    segs = []\n",
    "\n",
    "    def norm_one(d):\n",
    "        # 키 변형 수용\n",
    "        if isinstance(d, dict):\n",
    "            # 유형 1: 명시 키\n",
    "            s = d.get(\"start_frame\", d.get(\"frame_start\", d.get(\"start\")))\n",
    "            e = d.get(\"end_frame\", d.get(\"frame_end\", d.get(\"end\")))\n",
    "            lvl = d.get(\"level\", d.get(\"lvl\", d.get(\"label\", d.get(\"state\"))))\n",
    "            if s is not None and e is not None and lvl is not None:\n",
    "                return int(s), int(e), int(lvl)\n",
    "            # 유형 2: frames: [s, e]\n",
    "            if \"frames\" in d and isinstance(d[\"frames\"], (list, tuple)) and len(d[\"frames\"]) >= 2:\n",
    "                s, e = d[\"frames\"][:2]\n",
    "                lvl = int(d.get(\"level\", d.get(\"label\", -1)))\n",
    "                return int(s), int(e), int(lvl)\n",
    "        return None\n",
    "\n",
    "    if isinstance(data, list):\n",
    "        for item in data:\n",
    "            r = norm_one(item)\n",
    "            if r: segs.append(r)\n",
    "    elif isinstance(data, dict):\n",
    "        # 유형 3: {\"segments\":[{...}, ...]}\n",
    "        if \"segments\" in data and isinstance(data[\"segments\"], list):\n",
    "            for item in data[\"segments\"]:\n",
    "                r = norm_one(item)\n",
    "                if r: segs.append(r)\n",
    "        # 유형 4: {\"ranges\": {\"100-200\": 2, ...}}\n",
    "        elif \"ranges\" in data and isinstance(data[\"ranges\"], dict):\n",
    "            for k, v in data[\"ranges\"].items():\n",
    "                m = re.match(r\"^\\s*(\\d+)\\s*[-:]\\s*(\\d+)\\s*$\", str(k))\n",
    "                if m:\n",
    "                    s, e = int(m.group(1)), int(m.group(2))\n",
    "                    segs.append((s, e, int(v)))\n",
    "        # 유형 5: {\"100-200\": 1, \"201-260\": 2}\n",
    "        else:\n",
    "            for k, v in data.items():\n",
    "                m = re.match(r\"^\\s*(\\d+)\\s*[-:]\\s*(\\d+)\\s*$\", str(k))\n",
    "                if m:\n",
    "                    s, e = int(m.group(1)), int(m.group(2))\n",
    "                    segs.append((s, e, int(v)))\n",
    "\n",
    "    # 정렬 & 병합은 생략(중복은 뒤값 우선)\n",
    "    segs.sort(key=lambda x: (x[0], x[1]))\n",
    "    return segs\n",
    "\n",
    "def build_frame_labels(max_frame: int, segments: List[Tuple[int,int,int]], default_level=-1) -> np.ndarray:\n",
    "    \"\"\"\n",
    "    0..max_frame 범위에 대해 프레임별 level 배열 만들기.\n",
    "    \"\"\"\n",
    "    labels = np.full((max_frame+1,), default_level, dtype=np.int32)\n",
    "    for s, e, lvl in segments:\n",
    "        s = max(0, s); e = min(max_frame, e)\n",
    "        if e >= s:\n",
    "            labels[s:e+1] = int(lvl)\n",
    "    return labels\n"
   ]
  },
  {
   "cell_type": "markdown",
   "id": "5cd3cd46",
   "metadata": {},
   "source": [
    "#### CSV 로딩 관련 함수"
   ]
  },
  {
   "cell_type": "code",
   "execution_count": 9,
   "id": "aaa238cc",
   "metadata": {},
   "outputs": [],
   "source": [
    "def infer_fps_from_csv(df: pd.DataFrame) -> float:\n",
    "    \"\"\"\n",
    "    CSV의 frame과 time_sec로 FPS 추정.\n",
    "    \"\"\"\n",
    "    df = df.sort_values(\"frame\")\n",
    "    if \"time_sec\" in df.columns and df[\"time_sec\"].max() > 0:\n",
    "        f_span = float(df[\"frame\"].iloc[-1] - df[\"frame\"].iloc[0])\n",
    "        t_span = float(df[\"time_sec\"].iloc[-1] - df[\"time_sec\"].iloc[0])\n",
    "        if t_span > 0 and f_span > 0:\n",
    "            return max(1.0, round(f_span / t_span, 2))\n",
    "    # fallback: frame 차분의 중앙값을 1프레임으로 간주\n",
    "    return 30.0  # 보수적 기본값\n",
    "\n",
    "def load_csv(csv_path: Path) -> pd.DataFrame:\n",
    "    encodings_to_try = [\"utf-8\", \"cp949\", \"euc-kr\"]\n",
    "\n",
    "    if csv_path.name.startswith(\".\") or csv_path.name.startswith(\"._\"):\n",
    "        return pd.DataFrame()  # 빈 데이터프레임 반환 (혹은 None 처리 가능)\n",
    "\n",
    "    print(\"current csv_path:\", csv_path)\n",
    "    \n",
    "    last_err = None\n",
    "    for enc in encodings_to_try:\n",
    "        try:\n",
    "            df = pd.read_csv(csv_path, encoding=enc)\n",
    "            break\n",
    "        except UnicodeDecodeError as e:\n",
    "            last_err = e\n",
    "    else:\n",
    "        # 모든 인코딩 실패 시 에러\n",
    "        raise last_err\n",
    "\n",
    "    # 필수 컬럼 체크\n",
    "    must = [\"frame\", \"time_sec\"] + FEATURE_COLS\n",
    "    missing = [c for c in must if c not in df.columns]\n",
    "    if missing:\n",
    "        raise ValueError(f\"[{csv_path.name}] 누락 컬럼: {missing}\")\n",
    "\n",
    "    df = df.sort_values(\"frame\").reset_index(drop=True)\n",
    "    return df"
   ]
  },
  {
   "cell_type": "markdown",
   "id": "a3a3da86",
   "metadata": {},
   "source": [
    "#### 윈도윙 함수"
   ]
  },
  {
   "cell_type": "code",
   "execution_count": 10,
   "id": "0b84ef3c",
   "metadata": {},
   "outputs": [],
   "source": [
    "def make_windows_for_pair(\n",
    "    csv_path: Path, json_path: Path,\n",
    "    window_sec=5.0, hop_sec=1.0,\n",
    ") -> Tuple[np.ndarray, np.ndarray]:\n",
    "    \"\"\"\n",
    "    하나의 (CSV, JSON) 쌍에서 (X, y) 윈도우 생성\n",
    "    - X: (num_win, seq_len, num_feat)\n",
    "    - y: (num_win,)  # 윈도우 대표 레벨 (다수결)\n",
    "    \"\"\"\n",
    "    df = load_csv(csv_path)\n",
    "\n",
    "    fps = infer_fps_from_csv(df)\n",
    "    win = max(1, int(round(window_sec * fps)))\n",
    "    hop = max(1, int(round(hop_sec * fps)))\n",
    "\n",
    "    # 프레임별 라벨\n",
    "    segs = parse_label_json(json_path)\n",
    "    max_frame = int(df[\"frame\"].max())\n",
    "    frame_labels = build_frame_labels(max_frame, segs, default_level=-1)\n",
    "\n",
    "    # 특성 행렬\n",
    "    feats = df[FEATURE_COLS].astype(float).copy()\n",
    "    # NaN 보정(앞채움→뒤채움→0)\n",
    "    feats = feats.fillna(method=\"ffill\").fillna(method=\"bfill\").fillna(0.0)\n",
    "    feat_np = feats.to_numpy(dtype=np.float32)\n",
    "    frames = df[\"frame\"].to_numpy(dtype=np.int32)\n",
    "\n",
    "    # 프레임 인덱스 → 라벨 매핑\n",
    "    label_by_row = np.array([frame_labels[f] if f <= max_frame else -1 for f in frames], dtype=np.int32)\n",
    "\n",
    "    X_list, y_list = [], []\n",
    "    start = 0\n",
    "    last_start = len(df) - win\n",
    "    while start <= last_start:\n",
    "        end = start + win\n",
    "        seq = feat_np[start:end, :]  # (win, feat)\n",
    "        seq_labels = label_by_row[start:end]  # (win,)\n",
    "\n",
    "        # 윈도우 대표 라벨: 다수결(동점이면 마지막 프레임값)\n",
    "        cnt = Counter(seq_labels.tolist())\n",
    "        most = max(cnt.items(), key=lambda kv: (kv[1], kv[0]))[0]\n",
    "        y = most\n",
    "\n",
    "        X_list.append(seq)\n",
    "        y_list.append(y)\n",
    "        start += hop\n",
    "\n",
    "    if not X_list:\n",
    "        return np.empty((0, win, len(FEATURE_COLS)), dtype=np.float32), np.empty((0,), dtype=np.int32)\n",
    "\n",
    "    X = np.stack(X_list, axis=0).astype(np.float32)\n",
    "    y = np.array(y_list, dtype=np.int32)\n",
    "    return X, y"
   ]
  },
  {
   "cell_type": "markdown",
   "id": "da1a943b",
   "metadata": {},
   "source": [
    "#### numpy 데이타셋 만들기"
   ]
  },
  {
   "cell_type": "code",
   "execution_count": 11,
   "id": "023acaf3",
   "metadata": {},
   "outputs": [],
   "source": [
    "window_sec = 5.0\n",
    "hop_sec = 1.0 # 0.2 , 혹은 0.0 초 도 테스트 필요..\n",
    "\n",
    "# 15 초 데이인 경우\n",
    "# 5 초 기준 1씩 스라이딩시.. 훈련 윈도우 10개 \n"
   ]
  },
  {
   "cell_type": "code",
   "execution_count": 44,
   "id": "189073d5",
   "metadata": {},
   "outputs": [],
   "source": [
    "def build_numpy_dataset(pairs: List[Tuple[Path,Path]], window_sec=5.0, hop_sec=1.0):\n",
    "    Xs, ys = [], []\n",
    "    for csv_path, json_path in pairs:\n",
    "        Xi, yi = make_windows_for_pair(csv_path, json_path, window_sec, hop_sec)\n",
    "        if len(Xi) > 0:\n",
    "            Xs.append(Xi); ys.append(yi)\n",
    "    if not Xs:\n",
    "        raise RuntimeError(\"윈도우가 생성되지 않았습니다. 입력 파일/라벨을 확인하세요.\")\n",
    "\n",
    "    max_len = max(X.shape[1] for X in Xs)\n",
    "    Xs_padded = [\n",
    "        np.pad(X, ((0,0),(0,max_len-X.shape[1]),(0,0)), mode=\"constant\")\n",
    "        if X.shape[1] < max_len else X\n",
    "        for X in Xs\n",
    "    ]\n",
    "    \n",
    "    X = np.concatenate(Xs_padded, axis=0)\n",
    "    y = np.concatenate(ys, axis=0)\n",
    "    return X, y"
   ]
  },
  {
   "cell_type": "code",
   "execution_count": 45,
   "id": "e012be06",
   "metadata": {},
   "outputs": [
    {
     "name": "stdout",
     "output_type": "stream",
     "text": [
      "current csv_path: /Volumes/EX_SSD_1T/와섭 AI 프로젝트/3차/40.개발/dataset/origin/20-FemaleNoGlasses-Yawning-labeled.csv\n"
     ]
    },
    {
     "ename": "OSError",
     "evalue": "[Errno 5] Input/output error",
     "output_type": "error",
     "traceback": [
      "\u001b[31m---------------------------------------------------------------------------\u001b[39m",
      "\u001b[31mOSError\u001b[39m                                   Traceback (most recent call last)",
      "\u001b[36mCell\u001b[39m\u001b[36m \u001b[39m\u001b[32mIn[45]\u001b[39m\u001b[32m, line 2\u001b[39m\n\u001b[32m      1\u001b[39m \u001b[38;5;66;03m# 넘파이 데이터셋\u001b[39;00m\n\u001b[32m----> \u001b[39m\u001b[32m2\u001b[39m Xtr, ytr = \u001b[43mbuild_numpy_dataset\u001b[49m\u001b[43m(\u001b[49m\u001b[43mtrain_pairs\u001b[49m\u001b[43m,\u001b[49m\u001b[43m \u001b[49m\u001b[43mwindow_sec\u001b[49m\u001b[43m,\u001b[49m\u001b[43m \u001b[49m\u001b[43mhop_sec\u001b[49m\u001b[43m)\u001b[49m\n\u001b[32m      3\u001b[39m Xva, yva = build_numpy_dataset(val_pairs, window_sec, hop_sec)\n",
      "\u001b[36mCell\u001b[39m\u001b[36m \u001b[39m\u001b[32mIn[44]\u001b[39m\u001b[32m, line 4\u001b[39m, in \u001b[36mbuild_numpy_dataset\u001b[39m\u001b[34m(pairs, window_sec, hop_sec)\u001b[39m\n\u001b[32m      2\u001b[39m Xs, ys = [], []\n\u001b[32m      3\u001b[39m \u001b[38;5;28;01mfor\u001b[39;00m csv_path, json_path \u001b[38;5;129;01min\u001b[39;00m pairs:\n\u001b[32m----> \u001b[39m\u001b[32m4\u001b[39m     Xi, yi = \u001b[43mmake_windows_for_pair\u001b[49m\u001b[43m(\u001b[49m\u001b[43mcsv_path\u001b[49m\u001b[43m,\u001b[49m\u001b[43m \u001b[49m\u001b[43mjson_path\u001b[49m\u001b[43m,\u001b[49m\u001b[43m \u001b[49m\u001b[43mwindow_sec\u001b[49m\u001b[43m,\u001b[49m\u001b[43m \u001b[49m\u001b[43mhop_sec\u001b[49m\u001b[43m)\u001b[49m\n\u001b[32m      5\u001b[39m     \u001b[38;5;28;01mif\u001b[39;00m \u001b[38;5;28mlen\u001b[39m(Xi) > \u001b[32m0\u001b[39m:\n\u001b[32m      6\u001b[39m         Xs.append(Xi); ys.append(yi)\n",
      "\u001b[36mCell\u001b[39m\u001b[36m \u001b[39m\u001b[32mIn[10]\u001b[39m\u001b[32m, line 10\u001b[39m, in \u001b[36mmake_windows_for_pair\u001b[39m\u001b[34m(csv_path, json_path, window_sec, hop_sec)\u001b[39m\n\u001b[32m      1\u001b[39m \u001b[38;5;28;01mdef\u001b[39;00m\u001b[38;5;250m \u001b[39m\u001b[34mmake_windows_for_pair\u001b[39m(\n\u001b[32m      2\u001b[39m     csv_path: Path, json_path: Path,\n\u001b[32m      3\u001b[39m     window_sec=\u001b[32m5.0\u001b[39m, hop_sec=\u001b[32m1.0\u001b[39m,\n\u001b[32m      4\u001b[39m ) -> Tuple[np.ndarray, np.ndarray]:\n\u001b[32m      5\u001b[39m \u001b[38;5;250m    \u001b[39m\u001b[33;03m\"\"\"\u001b[39;00m\n\u001b[32m      6\u001b[39m \u001b[33;03m    하나의 (CSV, JSON) 쌍에서 (X, y) 윈도우 생성\u001b[39;00m\n\u001b[32m      7\u001b[39m \u001b[33;03m    - X: (num_win, seq_len, num_feat)\u001b[39;00m\n\u001b[32m      8\u001b[39m \u001b[33;03m    - y: (num_win,)  # 윈도우 대표 레벨 (다수결)\u001b[39;00m\n\u001b[32m      9\u001b[39m \u001b[33;03m    \"\"\"\u001b[39;00m\n\u001b[32m---> \u001b[39m\u001b[32m10\u001b[39m     df = \u001b[43mload_csv\u001b[49m\u001b[43m(\u001b[49m\u001b[43mcsv_path\u001b[49m\u001b[43m)\u001b[49m\n\u001b[32m     12\u001b[39m     fps = infer_fps_from_csv(df)\n\u001b[32m     13\u001b[39m     win = \u001b[38;5;28mmax\u001b[39m(\u001b[32m1\u001b[39m, \u001b[38;5;28mint\u001b[39m(\u001b[38;5;28mround\u001b[39m(window_sec * fps)))\n",
      "\u001b[36mCell\u001b[39m\u001b[36m \u001b[39m\u001b[32mIn[9]\u001b[39m\u001b[32m, line 25\u001b[39m, in \u001b[36mload_csv\u001b[39m\u001b[34m(csv_path)\u001b[39m\n\u001b[32m     23\u001b[39m \u001b[38;5;28;01mfor\u001b[39;00m enc \u001b[38;5;129;01min\u001b[39;00m encodings_to_try:\n\u001b[32m     24\u001b[39m     \u001b[38;5;28;01mtry\u001b[39;00m:\n\u001b[32m---> \u001b[39m\u001b[32m25\u001b[39m         df = \u001b[43mpd\u001b[49m\u001b[43m.\u001b[49m\u001b[43mread_csv\u001b[49m\u001b[43m(\u001b[49m\u001b[43mcsv_path\u001b[49m\u001b[43m,\u001b[49m\u001b[43m \u001b[49m\u001b[43mencoding\u001b[49m\u001b[43m=\u001b[49m\u001b[43menc\u001b[49m\u001b[43m)\u001b[49m\n\u001b[32m     26\u001b[39m         \u001b[38;5;28;01mbreak\u001b[39;00m\n\u001b[32m     27\u001b[39m     \u001b[38;5;28;01mexcept\u001b[39;00m \u001b[38;5;167;01mUnicodeDecodeError\u001b[39;00m \u001b[38;5;28;01mas\u001b[39;00m e:\n",
      "\u001b[36mFile \u001b[39m\u001b[32m/opt/anaconda3/envs/dlp/lib/python3.11/site-packages/pandas/io/parsers/readers.py:1026\u001b[39m, in \u001b[36mread_csv\u001b[39m\u001b[34m(filepath_or_buffer, sep, delimiter, header, names, index_col, usecols, dtype, engine, converters, true_values, false_values, skipinitialspace, skiprows, skipfooter, nrows, na_values, keep_default_na, na_filter, verbose, skip_blank_lines, parse_dates, infer_datetime_format, keep_date_col, date_parser, date_format, dayfirst, cache_dates, iterator, chunksize, compression, thousands, decimal, lineterminator, quotechar, quoting, doublequote, escapechar, comment, encoding, encoding_errors, dialect, on_bad_lines, delim_whitespace, low_memory, memory_map, float_precision, storage_options, dtype_backend)\u001b[39m\n\u001b[32m   1013\u001b[39m kwds_defaults = _refine_defaults_read(\n\u001b[32m   1014\u001b[39m     dialect,\n\u001b[32m   1015\u001b[39m     delimiter,\n\u001b[32m   (...)\u001b[39m\u001b[32m   1022\u001b[39m     dtype_backend=dtype_backend,\n\u001b[32m   1023\u001b[39m )\n\u001b[32m   1024\u001b[39m kwds.update(kwds_defaults)\n\u001b[32m-> \u001b[39m\u001b[32m1026\u001b[39m \u001b[38;5;28;01mreturn\u001b[39;00m \u001b[43m_read\u001b[49m\u001b[43m(\u001b[49m\u001b[43mfilepath_or_buffer\u001b[49m\u001b[43m,\u001b[49m\u001b[43m \u001b[49m\u001b[43mkwds\u001b[49m\u001b[43m)\u001b[49m\n",
      "\u001b[36mFile \u001b[39m\u001b[32m/opt/anaconda3/envs/dlp/lib/python3.11/site-packages/pandas/io/parsers/readers.py:620\u001b[39m, in \u001b[36m_read\u001b[39m\u001b[34m(filepath_or_buffer, kwds)\u001b[39m\n\u001b[32m    617\u001b[39m _validate_names(kwds.get(\u001b[33m\"\u001b[39m\u001b[33mnames\u001b[39m\u001b[33m\"\u001b[39m, \u001b[38;5;28;01mNone\u001b[39;00m))\n\u001b[32m    619\u001b[39m \u001b[38;5;66;03m# Create the parser.\u001b[39;00m\n\u001b[32m--> \u001b[39m\u001b[32m620\u001b[39m parser = \u001b[43mTextFileReader\u001b[49m\u001b[43m(\u001b[49m\u001b[43mfilepath_or_buffer\u001b[49m\u001b[43m,\u001b[49m\u001b[43m \u001b[49m\u001b[43m*\u001b[49m\u001b[43m*\u001b[49m\u001b[43mkwds\u001b[49m\u001b[43m)\u001b[49m\n\u001b[32m    622\u001b[39m \u001b[38;5;28;01mif\u001b[39;00m chunksize \u001b[38;5;129;01mor\u001b[39;00m iterator:\n\u001b[32m    623\u001b[39m     \u001b[38;5;28;01mreturn\u001b[39;00m parser\n",
      "\u001b[36mFile \u001b[39m\u001b[32m/opt/anaconda3/envs/dlp/lib/python3.11/site-packages/pandas/io/parsers/readers.py:1620\u001b[39m, in \u001b[36mTextFileReader.__init__\u001b[39m\u001b[34m(self, f, engine, **kwds)\u001b[39m\n\u001b[32m   1617\u001b[39m     \u001b[38;5;28mself\u001b[39m.options[\u001b[33m\"\u001b[39m\u001b[33mhas_index_names\u001b[39m\u001b[33m\"\u001b[39m] = kwds[\u001b[33m\"\u001b[39m\u001b[33mhas_index_names\u001b[39m\u001b[33m\"\u001b[39m]\n\u001b[32m   1619\u001b[39m \u001b[38;5;28mself\u001b[39m.handles: IOHandles | \u001b[38;5;28;01mNone\u001b[39;00m = \u001b[38;5;28;01mNone\u001b[39;00m\n\u001b[32m-> \u001b[39m\u001b[32m1620\u001b[39m \u001b[38;5;28mself\u001b[39m._engine = \u001b[38;5;28;43mself\u001b[39;49m\u001b[43m.\u001b[49m\u001b[43m_make_engine\u001b[49m\u001b[43m(\u001b[49m\u001b[43mf\u001b[49m\u001b[43m,\u001b[49m\u001b[43m \u001b[49m\u001b[38;5;28;43mself\u001b[39;49m\u001b[43m.\u001b[49m\u001b[43mengine\u001b[49m\u001b[43m)\u001b[49m\n",
      "\u001b[36mFile \u001b[39m\u001b[32m/opt/anaconda3/envs/dlp/lib/python3.11/site-packages/pandas/io/parsers/readers.py:1898\u001b[39m, in \u001b[36mTextFileReader._make_engine\u001b[39m\u001b[34m(self, f, engine)\u001b[39m\n\u001b[32m   1895\u001b[39m     \u001b[38;5;28;01mraise\u001b[39;00m \u001b[38;5;167;01mValueError\u001b[39;00m(msg)\n\u001b[32m   1897\u001b[39m \u001b[38;5;28;01mtry\u001b[39;00m:\n\u001b[32m-> \u001b[39m\u001b[32m1898\u001b[39m     \u001b[38;5;28;01mreturn\u001b[39;00m \u001b[43mmapping\u001b[49m\u001b[43m[\u001b[49m\u001b[43mengine\u001b[49m\u001b[43m]\u001b[49m\u001b[43m(\u001b[49m\u001b[43mf\u001b[49m\u001b[43m,\u001b[49m\u001b[43m \u001b[49m\u001b[43m*\u001b[49m\u001b[43m*\u001b[49m\u001b[38;5;28;43mself\u001b[39;49m\u001b[43m.\u001b[49m\u001b[43moptions\u001b[49m\u001b[43m)\u001b[49m\n\u001b[32m   1899\u001b[39m \u001b[38;5;28;01mexcept\u001b[39;00m \u001b[38;5;167;01mException\u001b[39;00m:\n\u001b[32m   1900\u001b[39m     \u001b[38;5;28;01mif\u001b[39;00m \u001b[38;5;28mself\u001b[39m.handles \u001b[38;5;129;01mis\u001b[39;00m \u001b[38;5;129;01mnot\u001b[39;00m \u001b[38;5;28;01mNone\u001b[39;00m:\n",
      "\u001b[36mFile \u001b[39m\u001b[32m/opt/anaconda3/envs/dlp/lib/python3.11/site-packages/pandas/io/parsers/c_parser_wrapper.py:93\u001b[39m, in \u001b[36mCParserWrapper.__init__\u001b[39m\u001b[34m(self, src, **kwds)\u001b[39m\n\u001b[32m     90\u001b[39m \u001b[38;5;28;01mif\u001b[39;00m kwds[\u001b[33m\"\u001b[39m\u001b[33mdtype_backend\u001b[39m\u001b[33m\"\u001b[39m] == \u001b[33m\"\u001b[39m\u001b[33mpyarrow\u001b[39m\u001b[33m\"\u001b[39m:\n\u001b[32m     91\u001b[39m     \u001b[38;5;66;03m# Fail here loudly instead of in cython after reading\u001b[39;00m\n\u001b[32m     92\u001b[39m     import_optional_dependency(\u001b[33m\"\u001b[39m\u001b[33mpyarrow\u001b[39m\u001b[33m\"\u001b[39m)\n\u001b[32m---> \u001b[39m\u001b[32m93\u001b[39m \u001b[38;5;28mself\u001b[39m._reader = \u001b[43mparsers\u001b[49m\u001b[43m.\u001b[49m\u001b[43mTextReader\u001b[49m\u001b[43m(\u001b[49m\u001b[43msrc\u001b[49m\u001b[43m,\u001b[49m\u001b[43m \u001b[49m\u001b[43m*\u001b[49m\u001b[43m*\u001b[49m\u001b[43mkwds\u001b[49m\u001b[43m)\u001b[49m\n\u001b[32m     95\u001b[39m \u001b[38;5;28mself\u001b[39m.unnamed_cols = \u001b[38;5;28mself\u001b[39m._reader.unnamed_cols\n\u001b[32m     97\u001b[39m \u001b[38;5;66;03m# error: Cannot determine type of 'names'\u001b[39;00m\n",
      "\u001b[36mFile \u001b[39m\u001b[32mpandas/_libs/parsers.pyx:574\u001b[39m, in \u001b[36mpandas._libs.parsers.TextReader.__cinit__\u001b[39m\u001b[34m()\u001b[39m\n",
      "\u001b[36mFile \u001b[39m\u001b[32mpandas/_libs/parsers.pyx:663\u001b[39m, in \u001b[36mpandas._libs.parsers.TextReader._get_header\u001b[39m\u001b[34m()\u001b[39m\n",
      "\u001b[36mFile \u001b[39m\u001b[32mpandas/_libs/parsers.pyx:874\u001b[39m, in \u001b[36mpandas._libs.parsers.TextReader._tokenize_rows\u001b[39m\u001b[34m()\u001b[39m\n",
      "\u001b[36mFile \u001b[39m\u001b[32mpandas/_libs/parsers.pyx:891\u001b[39m, in \u001b[36mpandas._libs.parsers.TextReader._check_tokenize_status\u001b[39m\u001b[34m()\u001b[39m\n",
      "\u001b[36mFile \u001b[39m\u001b[32mpandas/_libs/parsers.pyx:2053\u001b[39m, in \u001b[36mpandas._libs.parsers.raise_parser_error\u001b[39m\u001b[34m()\u001b[39m\n",
      "\u001b[31mOSError\u001b[39m: [Errno 5] Input/output error"
     ]
    }
   ],
   "source": [
    "# 넘파이 데이터셋\n",
    "Xtr, ytr = build_numpy_dataset(train_pairs, window_sec, hop_sec)\n",
    "Xva, yva = build_numpy_dataset(val_pairs, window_sec, hop_sec)"
   ]
  },
  {
   "cell_type": "code",
   "execution_count": 14,
   "id": "420506ca",
   "metadata": {},
   "outputs": [
    {
     "data": {
      "text/plain": [
       "[(PosixPath('/Volumes/EX_SSD_1T/와섭 AI 프로젝트/3차/40.개발/dataset/origin/20-FemaleNoGlasses-Yawning-labeled.csv'),\n",
       "  PosixPath('/Volumes/EX_SSD_1T/와섭 AI 프로젝트/3차/40.개발/dataset/origin/20-FemaleNoGlasses-Yawning-labeled.json')),\n",
       " (PosixPath('/Volumes/EX_SSD_1T/와섭 AI 프로젝트/3차/40.개발/dataset/origin/27-MaleGlasses-Normal-label.csv'),\n",
       "  PosixPath('/Volumes/EX_SSD_1T/와섭 AI 프로젝트/3차/40.개발/dataset/origin/27-MaleGlasses-Normal-label.json')),\n",
       " (PosixPath('/Volumes/EX_SSD_1T/와섭 AI 프로젝트/3차/40.개발/dataset/origin/10-MaleNoGlasses-Normal-label.csv'),\n",
       "  PosixPath('/Volumes/EX_SSD_1T/와섭 AI 프로젝트/3차/40.개발/dataset/origin/10-MaleNoGlasses-Normal-label.json')),\n",
       " (PosixPath('/Volumes/EX_SSD_1T/와섭 AI 프로젝트/3차/40.개발/dataset/origin/12-MaleGlasses-Normal-label.csv'),\n",
       "  PosixPath('/Volumes/EX_SSD_1T/와섭 AI 프로젝트/3차/40.개발/dataset/origin/12-MaleGlasses-Normal-label.json')),\n",
       " (PosixPath('/Volumes/EX_SSD_1T/와섭 AI 프로젝트/3차/40.개발/dataset/origin/19-FemaleNoGlasses-Normal-labeled.csv'),\n",
       "  PosixPath('/Volumes/EX_SSD_1T/와섭 AI 프로젝트/3차/40.개발/dataset/origin/19-FemaleNoGlasses-Normal-labeled.json')),\n",
       " (PosixPath('/Volumes/EX_SSD_1T/와섭 AI 프로젝트/3차/40.개발/dataset/origin/43-MaleNoGlasses-Normal-label.csv'),\n",
       "  PosixPath('/Volumes/EX_SSD_1T/와섭 AI 프로젝트/3차/40.개발/dataset/origin/43-MaleNoGlasses-Normal-label.json')),\n",
       " (PosixPath('/Volumes/EX_SSD_1T/와섭 AI 프로젝트/3차/40.개발/dataset/origin/gA_2_s5_2019-03-13T09_19_23+01_00_rgb_face-labeled.csv'),\n",
       "  PosixPath('/Volumes/EX_SSD_1T/와섭 AI 프로젝트/3차/40.개발/dataset/origin/gA_2_s5_2019-03-13T09_19_23+01_00_rgb_face-labeled.json')),\n",
       " (PosixPath('/Volumes/EX_SSD_1T/와섭 AI 프로젝트/3차/40.개발/dataset/origin/37-FemaleNoGlasses-Talking&Yawning-labeled.csv'),\n",
       "  PosixPath('/Volumes/EX_SSD_1T/와섭 AI 프로젝트/3차/40.개발/dataset/origin/37-FemaleNoGlasses-Talking&Yawning-labeled.json')),\n",
       " (PosixPath('/Volumes/EX_SSD_1T/와섭 AI 프로젝트/3차/40.개발/dataset/origin/25-FemaleNoGlasses-Yawning-labeled.csv'),\n",
       "  PosixPath('/Volumes/EX_SSD_1T/와섭 AI 프로젝트/3차/40.개발/dataset/origin/25-FemaleNoGlasses-Yawning-labeled.json')),\n",
       " (PosixPath('/Volumes/EX_SSD_1T/와섭 AI 프로젝트/3차/40.개발/dataset/origin/45-MaleNoGlasses-Yawning-label.csv'),\n",
       "  PosixPath('/Volumes/EX_SSD_1T/와섭 AI 프로젝트/3차/40.개발/dataset/origin/45-MaleNoGlasses-Yawning-label.json')),\n",
       " (PosixPath('/Volumes/EX_SSD_1T/와섭 AI 프로젝트/3차/40.개발/dataset/origin/33-FemaleNoGlasses-Normal-labeled.csv'),\n",
       "  PosixPath('/Volumes/EX_SSD_1T/와섭 AI 프로젝트/3차/40.개발/dataset/origin/33-FemaleNoGlasses-Normal-labeled.json')),\n",
       " (PosixPath('/Volumes/EX_SSD_1T/와섭 AI 프로젝트/3차/40.개발/dataset/origin/28-MaleGlasses-Yawning-label.csv'),\n",
       "  PosixPath('/Volumes/EX_SSD_1T/와섭 AI 프로젝트/3차/40.개발/dataset/origin/28-MaleGlasses-Yawning-label.json')),\n",
       " (PosixPath('/Volumes/EX_SSD_1T/와섭 AI 프로젝트/3차/40.개발/dataset/origin/21-MaleGlasses-Yawning-label.csv'),\n",
       "  PosixPath('/Volumes/EX_SSD_1T/와섭 AI 프로젝트/3차/40.개발/dataset/origin/21-MaleGlasses-Yawning-label.json')),\n",
       " (PosixPath('/Volumes/EX_SSD_1T/와섭 AI 프로젝트/3차/40.개발/dataset/origin/gB_8_s5_2019-03-13T14_10_09+01_00_rgb_face-labeled.csv'),\n",
       "  PosixPath('/Volumes/EX_SSD_1T/와섭 AI 프로젝트/3차/40.개발/dataset/origin/gB_8_s5_2019-03-13T14_10_09+01_00_rgb_face-labeled.json')),\n",
       " (PosixPath('/Volumes/EX_SSD_1T/와섭 AI 프로젝트/3차/40.개발/dataset/origin/2-MaleGlasses-Yawning-label.csv'),\n",
       "  PosixPath('/Volumes/EX_SSD_1T/와섭 AI 프로젝트/3차/40.개발/dataset/origin/2-MaleGlasses-Yawning-label.json')),\n",
       " (PosixPath('/Volumes/EX_SSD_1T/와섭 AI 프로젝트/3차/40.개발/dataset/origin/31-MaleGlasses-Normal-label.csv'),\n",
       "  PosixPath('/Volumes/EX_SSD_1T/와섭 AI 프로젝트/3차/40.개발/dataset/origin/31-MaleGlasses-Normal-label.json')),\n",
       " (PosixPath('/Volumes/EX_SSD_1T/와섭 AI 프로젝트/3차/40.개발/dataset/origin/gA_5_s5_2019-03-13T09_06_49+01_00_rgb_face-labeled.csv'),\n",
       "  PosixPath('/Volumes/EX_SSD_1T/와섭 AI 프로젝트/3차/40.개발/dataset/origin/gA_5_s5_2019-03-13T09_06_49+01_00_rgb_face-labeled.json')),\n",
       " (PosixPath('/Volumes/EX_SSD_1T/와섭 AI 프로젝트/3차/40.개발/dataset/origin/17-FemaleNoGlasses-Yawning-labeled.csv'),\n",
       "  PosixPath('/Volumes/EX_SSD_1T/와섭 AI 프로젝트/3차/40.개발/dataset/origin/17-FemaleNoGlasses-Yawning-labeled.json')),\n",
       " (PosixPath('/Volumes/EX_SSD_1T/와섭 AI 프로젝트/3차/40.개발/dataset/origin/46-MaleGlasses-Normal-label.csv'),\n",
       "  PosixPath('/Volumes/EX_SSD_1T/와섭 AI 프로젝트/3차/40.개발/dataset/origin/46-MaleGlasses-Normal-label.json')),\n",
       " (PosixPath('/Volumes/EX_SSD_1T/와섭 AI 프로젝트/3차/40.개발/dataset/origin/1-MaleNoGlasses-Yawning-label.csv'),\n",
       "  PosixPath('/Volumes/EX_SSD_1T/와섭 AI 프로젝트/3차/40.개발/dataset/origin/1-MaleNoGlasses-Yawning-label.json')),\n",
       " (PosixPath('/Volumes/EX_SSD_1T/와섭 AI 프로젝트/3차/40.개발/dataset/origin/36-FemaleNoGlasses-Talking&Yawning-labeled.csv'),\n",
       "  PosixPath('/Volumes/EX_SSD_1T/와섭 AI 프로젝트/3차/40.개발/dataset/origin/36-FemaleNoGlasses-Talking&Yawning-labeled.json')),\n",
       " (PosixPath('/Volumes/EX_SSD_1T/와섭 AI 프로젝트/3차/40.개발/dataset/origin/gB_7_s5_2019-03-13T13_55_52+01_00_rgb_face-labeled.csv'),\n",
       "  PosixPath('/Volumes/EX_SSD_1T/와섭 AI 프로젝트/3차/40.개발/dataset/origin/gB_7_s5_2019-03-13T13_55_52+01_00_rgb_face-labeled.json')),\n",
       " (PosixPath('/Volumes/EX_SSD_1T/와섭 AI 프로젝트/3차/40.개발/dataset/origin/40-FemaleNoGlasses-Normal-labeled.csv'),\n",
       "  PosixPath('/Volumes/EX_SSD_1T/와섭 AI 프로젝트/3차/40.개발/dataset/origin/40-FemaleNoGlasses-Normal-labeled.json')),\n",
       " (PosixPath('/Volumes/EX_SSD_1T/와섭 AI 프로젝트/3차/40.개발/dataset/origin/27-MaleNoGlasses-Normal-label.csv'),\n",
       "  PosixPath('/Volumes/EX_SSD_1T/와섭 AI 프로젝트/3차/40.개발/dataset/origin/27-MaleNoGlasses-Normal-label.json')),\n",
       " (PosixPath('/Volumes/EX_SSD_1T/와섭 AI 프로젝트/3차/40.개발/dataset/origin/18-MaleNoGlasses-Yawning-label.csv'),\n",
       "  PosixPath('/Volumes/EX_SSD_1T/와섭 AI 프로젝트/3차/40.개발/dataset/origin/18-MaleNoGlasses-Yawning-label.json')),\n",
       " (PosixPath('/Volumes/EX_SSD_1T/와섭 AI 프로젝트/3차/40.개발/dataset/origin/39-FemaleNoGlasses-Normal-labeled.csv'),\n",
       "  PosixPath('/Volumes/EX_SSD_1T/와섭 AI 프로젝트/3차/40.개발/dataset/origin/39-FemaleNoGlasses-Normal-labeled.json')),\n",
       " (PosixPath('/Volumes/EX_SSD_1T/와섭 AI 프로젝트/3차/40.개발/dataset/origin/44-MaleNoGlasses-Yawning-label.csv'),\n",
       "  PosixPath('/Volumes/EX_SSD_1T/와섭 AI 프로젝트/3차/40.개발/dataset/origin/44-MaleNoGlasses-Yawning-label.json')),\n",
       " (PosixPath('/Volumes/EX_SSD_1T/와섭 AI 프로젝트/3차/40.개발/dataset/origin/27-FemaleNoGlasses-Normal-labeled.csv'),\n",
       "  PosixPath('/Volumes/EX_SSD_1T/와섭 AI 프로젝트/3차/40.개발/dataset/origin/27-FemaleNoGlasses-Normal-labeled.json')),\n",
       " (PosixPath('/Volumes/EX_SSD_1T/와섭 AI 프로젝트/3차/40.개발/dataset/origin/10-FemaleNoGlasses-Normal-labeled.csv'),\n",
       "  PosixPath('/Volumes/EX_SSD_1T/와섭 AI 프로젝트/3차/40.개발/dataset/origin/10-FemaleNoGlasses-Normal-labeled.json')),\n",
       " (PosixPath('/Volumes/EX_SSD_1T/와섭 AI 프로젝트/3차/40.개발/dataset/origin/19-FemaleNoGlasses-Talking&Yawning-labeled.csv'),\n",
       "  PosixPath('/Volumes/EX_SSD_1T/와섭 AI 프로젝트/3차/40.개발/dataset/origin/19-FemaleNoGlasses-Talking&Yawning-labeled.json')),\n",
       " (PosixPath('/Volumes/EX_SSD_1T/와섭 AI 프로젝트/3차/40.개발/dataset/origin/13-FemaleNoGlasses-Normal-labeled.csv'),\n",
       "  PosixPath('/Volumes/EX_SSD_1T/와섭 AI 프로젝트/3차/40.개발/dataset/origin/13-FemaleNoGlasses-Normal-labeled.json')),\n",
       " (PosixPath('/Volumes/EX_SSD_1T/와섭 AI 프로젝트/3차/40.개발/dataset/origin/gC_11_s5_2019-03-12T09_08_15+01_00_rgb_face-labeled.csv'),\n",
       "  PosixPath('/Volumes/EX_SSD_1T/와섭 AI 프로젝트/3차/40.개발/dataset/origin/gC_11_s5_2019-03-12T09_08_15+01_00_rgb_face-labeled.json')),\n",
       " (PosixPath('/Volumes/EX_SSD_1T/와섭 AI 프로젝트/3차/40.개발/dataset/origin/23-MaleGlassesBeard-Yawning-label.csv'),\n",
       "  PosixPath('/Volumes/EX_SSD_1T/와섭 AI 프로젝트/3차/40.개발/dataset/origin/23-MaleGlassesBeard-Yawning-label.json')),\n",
       " (PosixPath('/Volumes/EX_SSD_1T/와섭 AI 프로젝트/3차/40.개발/dataset/origin/28-MaleGlasses-Normal-label.csv'),\n",
       "  PosixPath('/Volumes/EX_SSD_1T/와섭 AI 프로젝트/3차/40.개발/dataset/origin/28-MaleGlasses-Normal-label.json')),\n",
       " (PosixPath('/Volumes/EX_SSD_1T/와섭 AI 프로젝트/3차/40.개발/dataset/origin/33-FemaleNoGlasses-Yawning-labeled.csv'),\n",
       "  PosixPath('/Volumes/EX_SSD_1T/와섭 AI 프로젝트/3차/40.개발/dataset/origin/33-FemaleNoGlasses-Yawning-labeled.json')),\n",
       " (PosixPath('/Volumes/EX_SSD_1T/와섭 AI 프로젝트/3차/40.개발/dataset/origin/44-MaleNoGlasses-Normal-label.csv'),\n",
       "  PosixPath('/Volumes/EX_SSD_1T/와섭 AI 프로젝트/3차/40.개발/dataset/origin/44-MaleNoGlasses-Normal-label.json')),\n",
       " (PosixPath('/Volumes/EX_SSD_1T/와섭 AI 프로젝트/3차/40.개발/dataset/origin/11-MaleGlasses-Normal-label.csv'),\n",
       "  PosixPath('/Volumes/EX_SSD_1T/와섭 AI 프로젝트/3차/40.개발/dataset/origin/11-MaleGlasses-Normal-label.json')),\n",
       " (PosixPath('/Volumes/EX_SSD_1T/와섭 AI 프로젝트/3차/40.개발/dataset/origin/12-FemaleNoGlasses-Yawning-labeled.csv'),\n",
       "  PosixPath('/Volumes/EX_SSD_1T/와섭 AI 프로젝트/3차/40.개발/dataset/origin/12-FemaleNoGlasses-Yawning-labeled.json')),\n",
       " (PosixPath('/Volumes/EX_SSD_1T/와섭 AI 프로젝트/3차/40.개발/dataset/origin/2-FemaleNoGlasses-Normal-labeled.csv'),\n",
       "  PosixPath('/Volumes/EX_SSD_1T/와섭 AI 프로젝트/3차/40.개발/dataset/origin/2-FemaleNoGlasses-Normal-labeled.json')),\n",
       " (PosixPath('/Volumes/EX_SSD_1T/와섭 AI 프로젝트/3차/40.개발/dataset/origin/gC_15_s5_2019-03-12T11_03_23+01_00_rgb_face-labeled.csv'),\n",
       "  PosixPath('/Volumes/EX_SSD_1T/와섭 AI 프로젝트/3차/40.개발/dataset/origin/gC_15_s5_2019-03-12T11_03_23+01_00_rgb_face-labeled.json')),\n",
       " (PosixPath('/Volumes/EX_SSD_1T/와섭 AI 프로젝트/3차/40.개발/dataset/origin/41-FemaleGlasses-Yawning-labeled.csv'),\n",
       "  PosixPath('/Volumes/EX_SSD_1T/와섭 AI 프로젝트/3차/40.개발/dataset/origin/41-FemaleGlasses-Yawning-labeled.json')),\n",
       " (PosixPath('/Volumes/EX_SSD_1T/와섭 AI 프로젝트/3차/40.개발/dataset/origin/26-FemaleGlasses-Yawning-labeled.csv'),\n",
       "  PosixPath('/Volumes/EX_SSD_1T/와섭 AI 프로젝트/3차/40.개발/dataset/origin/26-FemaleGlasses-Yawning-labeled.json')),\n",
       " (PosixPath('/Volumes/EX_SSD_1T/와섭 AI 프로젝트/3차/40.개발/dataset/origin/2-MaleGlasses-Normal-label.csv'),\n",
       "  PosixPath('/Volumes/EX_SSD_1T/와섭 AI 프로젝트/3차/40.개발/dataset/origin/2-MaleGlasses-Normal-label.json')),\n",
       " (PosixPath('/Volumes/EX_SSD_1T/와섭 AI 프로젝트/3차/40.개발/dataset/origin/35-FemaleNoGlasses-Normal-labeled.csv'),\n",
       "  PosixPath('/Volumes/EX_SSD_1T/와섭 AI 프로젝트/3차/40.개발/dataset/origin/35-FemaleNoGlasses-Normal-labeled.json')),\n",
       " (PosixPath('/Volumes/EX_SSD_1T/와섭 AI 프로젝트/3차/40.개발/dataset/origin/24-FemaleNoGlasses-Normal-labeled.csv'),\n",
       "  PosixPath('/Volumes/EX_SSD_1T/와섭 AI 프로젝트/3차/40.개발/dataset/origin/24-FemaleNoGlasses-Normal-labeled.json')),\n",
       " (PosixPath('/Volumes/EX_SSD_1T/와섭 AI 프로젝트/3차/40.개발/dataset/origin/13-FemaleNoGlasses-Yawning-labeled.csv'),\n",
       "  PosixPath('/Volumes/EX_SSD_1T/와섭 AI 프로젝트/3차/40.개발/dataset/origin/13-FemaleNoGlasses-Yawning-labeled.json')),\n",
       " (PosixPath('/Volumes/EX_SSD_1T/와섭 AI 프로젝트/3차/40.개발/dataset/origin/1-FemaleNoGlasses-Normal-labeled.csv'),\n",
       "  PosixPath('/Volumes/EX_SSD_1T/와섭 AI 프로젝트/3차/40.개발/dataset/origin/1-FemaleNoGlasses-Normal-labeled.json')),\n",
       " (PosixPath('/Volumes/EX_SSD_1T/와섭 AI 프로젝트/3차/40.개발/dataset/origin/47-MaleNoGlasses-Yawning-label.csv'),\n",
       "  PosixPath('/Volumes/EX_SSD_1T/와섭 AI 프로젝트/3차/40.개발/dataset/origin/47-MaleNoGlasses-Yawning-label.json')),\n",
       " (PosixPath('/Volumes/EX_SSD_1T/와섭 AI 프로젝트/3차/40.개발/dataset/origin/11-MaleGlasses-Yawning-label.csv'),\n",
       "  PosixPath('/Volumes/EX_SSD_1T/와섭 AI 프로젝트/3차/40.개발/dataset/origin/11-MaleGlasses-Yawning-label.json')),\n",
       " (PosixPath('/Volumes/EX_SSD_1T/와섭 AI 프로젝트/3차/40.개발/dataset/origin/5-MaleNoGlasses-Yawning-label.csv'),\n",
       "  PosixPath('/Volumes/EX_SSD_1T/와섭 AI 프로젝트/3차/40.개발/dataset/origin/5-MaleNoGlasses-Yawning-label.json')),\n",
       " (PosixPath('/Volumes/EX_SSD_1T/와섭 AI 프로젝트/3차/40.개발/dataset/origin/37-FemaleNoGlasses-Yawning-labeled.csv'),\n",
       "  PosixPath('/Volumes/EX_SSD_1T/와섭 AI 프로젝트/3차/40.개발/dataset/origin/37-FemaleNoGlasses-Yawning-labeled.json')),\n",
       " (PosixPath('/Volumes/EX_SSD_1T/와섭 AI 프로젝트/3차/40.개발/dataset/origin/23-MaleGlassesBeard-Normal-label.csv'),\n",
       "  PosixPath('/Volumes/EX_SSD_1T/와섭 AI 프로젝트/3차/40.개발/dataset/origin/23-MaleGlassesBeard-Normal-label.json')),\n",
       " (PosixPath('/Volumes/EX_SSD_1T/와섭 AI 프로젝트/3차/40.개발/dataset/origin/14-MaleGlasses-Normal-label.csv'),\n",
       "  PosixPath('/Volumes/EX_SSD_1T/와섭 AI 프로젝트/3차/40.개발/dataset/origin/14-MaleGlasses-Normal-label.json')),\n",
       " (PosixPath('/Volumes/EX_SSD_1T/와섭 AI 프로젝트/3차/40.개발/dataset/origin/33-MaleGlasses-Yawning-label.csv'),\n",
       "  PosixPath('/Volumes/EX_SSD_1T/와섭 AI 프로젝트/3차/40.개발/dataset/origin/33-MaleGlasses-Yawning-label.json')),\n",
       " (PosixPath('/Volumes/EX_SSD_1T/와섭 AI 프로젝트/3차/40.개발/dataset/origin/42-MaleNoGlasses-Normal-label.csv'),\n",
       "  PosixPath('/Volumes/EX_SSD_1T/와섭 AI 프로젝트/3차/40.개발/dataset/origin/42-MaleNoGlasses-Normal-label.json')),\n",
       " (PosixPath('/Volumes/EX_SSD_1T/와섭 AI 프로젝트/3차/40.개발/dataset/origin/27-FemaleNoGlasses-Talking&Yawning-labeled.csv'),\n",
       "  PosixPath('/Volumes/EX_SSD_1T/와섭 AI 프로젝트/3차/40.개발/dataset/origin/27-FemaleNoGlasses-Talking&Yawning-labeled.json')),\n",
       " (PosixPath('/Volumes/EX_SSD_1T/와섭 AI 프로젝트/3차/40.개발/dataset/origin/24-MaleGlasses-Normal-label.csv'),\n",
       "  PosixPath('/Volumes/EX_SSD_1T/와섭 AI 프로젝트/3차/40.개발/dataset/origin/24-MaleGlasses-Normal-label.json')),\n",
       " (PosixPath('/Volumes/EX_SSD_1T/와섭 AI 프로젝트/3차/40.개발/dataset/origin/31-FemaleGlasses-Normal-labeled.csv'),\n",
       "  PosixPath('/Volumes/EX_SSD_1T/와섭 AI 프로젝트/3차/40.개발/dataset/origin/31-FemaleGlasses-Normal-labeled.json')),\n",
       " (PosixPath('/Volumes/EX_SSD_1T/와섭 AI 프로젝트/3차/40.개발/dataset/origin/6-FemaleNoGlasses-Yawning-labeled.csv'),\n",
       "  PosixPath('/Volumes/EX_SSD_1T/와섭 AI 프로젝트/3차/40.개발/dataset/origin/6-FemaleNoGlasses-Yawning-labeled.json')),\n",
       " (PosixPath('/Volumes/EX_SSD_1T/와섭 AI 프로젝트/3차/40.개발/dataset/origin/gB_9_s5_2019-03-07T16_31_48+01_00_rgb_face-labeled.csv'),\n",
       "  PosixPath('/Volumes/EX_SSD_1T/와섭 AI 프로젝트/3차/40.개발/dataset/origin/gB_9_s5_2019-03-07T16_31_48+01_00_rgb_face-labeled.json')),\n",
       " (PosixPath('/Volumes/EX_SSD_1T/와섭 AI 프로젝트/3차/40.개발/dataset/origin/32-MaleGlasses-Yawning-label.csv'),\n",
       "  PosixPath('/Volumes/EX_SSD_1T/와섭 AI 프로젝트/3차/40.개발/dataset/origin/32-MaleGlasses-Yawning-label.json')),\n",
       " (PosixPath('/Volumes/EX_SSD_1T/와섭 AI 프로젝트/3차/40.개발/dataset/origin/27-MaleGlasses-Yawning-label.csv'),\n",
       "  PosixPath('/Volumes/EX_SSD_1T/와섭 AI 프로젝트/3차/40.개발/dataset/origin/27-MaleGlasses-Yawning-label.json')),\n",
       " (PosixPath('/Volumes/EX_SSD_1T/와섭 AI 프로젝트/3차/40.개발/dataset/origin/36-MaleNoGlasses-Normal-label.csv'),\n",
       "  PosixPath('/Volumes/EX_SSD_1T/와섭 AI 프로젝트/3차/40.개발/dataset/origin/36-MaleNoGlasses-Normal-label.json')),\n",
       " (PosixPath('/Volumes/EX_SSD_1T/와섭 AI 프로젝트/3차/40.개발/dataset/origin/5-FemaleGlasses-Yawning-labeled.csv'),\n",
       "  PosixPath('/Volumes/EX_SSD_1T/와섭 AI 프로젝트/3차/40.개발/dataset/origin/5-FemaleGlasses-Yawning-labeled.json')),\n",
       " (PosixPath('/Volumes/EX_SSD_1T/와섭 AI 프로젝트/3차/40.개발/dataset/origin/17-MaleNoGlasses-Yawning-label.csv'),\n",
       "  PosixPath('/Volumes/EX_SSD_1T/와섭 AI 프로젝트/3차/40.개발/dataset/origin/17-MaleNoGlasses-Yawning-label.json')),\n",
       " (PosixPath('/Volumes/EX_SSD_1T/와섭 AI 프로젝트/3차/40.개발/dataset/origin/35-MaleNoGlasses-Normal-label.csv'),\n",
       "  PosixPath('/Volumes/EX_SSD_1T/와섭 AI 프로젝트/3차/40.개발/dataset/origin/35-MaleNoGlasses-Normal-label.json')),\n",
       " (PosixPath('/Volumes/EX_SSD_1T/와섭 AI 프로젝트/3차/40.개발/dataset/origin/35-FemaleNoGlasses-Yawning-labeled.csv'),\n",
       "  PosixPath('/Volumes/EX_SSD_1T/와섭 AI 프로젝트/3차/40.개발/dataset/origin/35-FemaleNoGlasses-Yawning-labeled.json')),\n",
       " (PosixPath('/Volumes/EX_SSD_1T/와섭 AI 프로젝트/3차/40.개발/dataset/origin/4-MaleNoGlasses-Normal-label.csv'),\n",
       "  PosixPath('/Volumes/EX_SSD_1T/와섭 AI 프로젝트/3차/40.개발/dataset/origin/4-MaleNoGlasses-Normal-label.json')),\n",
       " (PosixPath('/Volumes/EX_SSD_1T/와섭 AI 프로젝트/3차/40.개발/dataset/origin/30-MaleGlasses-Yawning-label.csv'),\n",
       "  PosixPath('/Volumes/EX_SSD_1T/와섭 AI 프로젝트/3차/40.개발/dataset/origin/30-MaleGlasses-Yawning-label.json')),\n",
       " (PosixPath('/Volumes/EX_SSD_1T/와섭 AI 프로젝트/3차/40.개발/dataset/origin/4-MaleNoGlasses-Yawning-label.csv'),\n",
       "  PosixPath('/Volumes/EX_SSD_1T/와섭 AI 프로젝트/3차/40.개발/dataset/origin/4-MaleNoGlasses-Yawning-label.json')),\n",
       " (PosixPath('/Volumes/EX_SSD_1T/와섭 AI 프로젝트/3차/40.개발/dataset/origin/35-MaleNoGlasses-Yawning-label.csv'),\n",
       "  PosixPath('/Volumes/EX_SSD_1T/와섭 AI 프로젝트/3차/40.개발/dataset/origin/35-MaleNoGlasses-Yawning-label.json')),\n",
       " (PosixPath('/Volumes/EX_SSD_1T/와섭 AI 프로젝트/3차/40.개발/dataset/origin/14-FemaleNoGlasses-Normal-labeled.csv'),\n",
       "  PosixPath('/Volumes/EX_SSD_1T/와섭 AI 프로젝트/3차/40.개발/dataset/origin/14-FemaleNoGlasses-Normal-labeled.json')),\n",
       " (PosixPath('/Volumes/EX_SSD_1T/와섭 AI 프로젝트/3차/40.개발/dataset/origin/12-MaleGlasses-Yawning-label.csv'),\n",
       "  PosixPath('/Volumes/EX_SSD_1T/와섭 AI 프로젝트/3차/40.개발/dataset/origin/12-MaleGlasses-Yawning-label.json')),\n",
       " (PosixPath('/Volumes/EX_SSD_1T/와섭 AI 프로젝트/3차/40.개발/dataset/origin/7-MaleGlasses-Yawning-label.csv'),\n",
       "  PosixPath('/Volumes/EX_SSD_1T/와섭 AI 프로젝트/3차/40.개발/dataset/origin/7-MaleGlasses-Yawning-label.json')),\n",
       " (PosixPath('/Volumes/EX_SSD_1T/와섭 AI 프로젝트/3차/40.개발/dataset/origin/7-MaleGlasses-Normal-label.csv'),\n",
       "  PosixPath('/Volumes/EX_SSD_1T/와섭 AI 프로젝트/3차/40.개발/dataset/origin/7-MaleGlasses-Normal-label.json')),\n",
       " (PosixPath('/Volumes/EX_SSD_1T/와섭 AI 프로젝트/3차/40.개발/dataset/origin/37-MaleNoGlasses-Normal-label.csv'),\n",
       "  PosixPath('/Volumes/EX_SSD_1T/와섭 AI 프로젝트/3차/40.개발/dataset/origin/37-MaleNoGlasses-Normal-label.json')),\n",
       " (PosixPath('/Volumes/EX_SSD_1T/와섭 AI 프로젝트/3차/40.개발/dataset/origin/24-FemaleNoGlasses-Yawning-labeled.csv'),\n",
       "  PosixPath('/Volumes/EX_SSD_1T/와섭 AI 프로젝트/3차/40.개발/dataset/origin/24-FemaleNoGlasses-Yawning-labeled.json')),\n",
       " (PosixPath('/Volumes/EX_SSD_1T/와섭 AI 프로젝트/3차/40.개발/dataset/origin/41-MaleNoGlasses-Normal-label.csv'),\n",
       "  PosixPath('/Volumes/EX_SSD_1T/와섭 AI 프로젝트/3차/40.개발/dataset/origin/41-MaleNoGlasses-Normal-label.json')),\n",
       " (PosixPath('/Volumes/EX_SSD_1T/와섭 AI 프로젝트/3차/40.개발/dataset/origin/34-FemaleNoGlasses-Talking&Yawning-labeled.csv'),\n",
       "  PosixPath('/Volumes/EX_SSD_1T/와섭 AI 프로젝트/3차/40.개발/dataset/origin/34-FemaleNoGlasses-Talking&Yawning-labeled.json')),\n",
       " (PosixPath('/Volumes/EX_SSD_1T/와섭 AI 프로젝트/3차/40.개발/dataset/origin/20-FemaleNoGlasses-Normal-labeled.csv'),\n",
       "  PosixPath('/Volumes/EX_SSD_1T/와섭 AI 프로젝트/3차/40.개발/dataset/origin/20-FemaleNoGlasses-Normal-labeled.json')),\n",
       " (PosixPath('/Volumes/EX_SSD_1T/와섭 AI 프로젝트/3차/40.개발/dataset/origin/33-MaleGlasses-Normal-label.csv'),\n",
       "  PosixPath('/Volumes/EX_SSD_1T/와섭 AI 프로젝트/3차/40.개발/dataset/origin/33-MaleGlasses-Normal-label.json')),\n",
       " (PosixPath('/Volumes/EX_SSD_1T/와섭 AI 프로젝트/3차/40.개발/dataset/origin/3-MaleGlasses-Yawning-label.csv'),\n",
       "  PosixPath('/Volumes/EX_SSD_1T/와섭 AI 프로젝트/3차/40.개발/dataset/origin/3-MaleGlasses-Yawning-label.json')),\n",
       " (PosixPath('/Volumes/EX_SSD_1T/와섭 AI 프로젝트/3차/40.개발/dataset/origin/22-FemaleNoGlasses-Yawning-labeled.csv'),\n",
       "  PosixPath('/Volumes/EX_SSD_1T/와섭 AI 프로젝트/3차/40.개발/dataset/origin/22-FemaleNoGlasses-Yawning-labeled.json')),\n",
       " (PosixPath('/Volumes/EX_SSD_1T/와섭 AI 프로젝트/3차/40.개발/dataset/origin/40-FemaleNoGlasses-Yawning-labeled.csv'),\n",
       "  PosixPath('/Volumes/EX_SSD_1T/와섭 AI 프로젝트/3차/40.개발/dataset/origin/40-FemaleNoGlasses-Yawning-labeled.json')),\n",
       " (PosixPath('/Volumes/EX_SSD_1T/와섭 AI 프로젝트/3차/40.개발/dataset/origin/29-FemaleNoGlasses-Yawning-labeled.csv'),\n",
       "  PosixPath('/Volumes/EX_SSD_1T/와섭 AI 프로젝트/3차/40.개발/dataset/origin/29-FemaleNoGlasses-Yawning-labeled.json')),\n",
       " (PosixPath('/Volumes/EX_SSD_1T/와섭 AI 프로젝트/3차/40.개발/dataset/origin/36-FemaleNoGlasses-Yawning-labeled.csv'),\n",
       "  PosixPath('/Volumes/EX_SSD_1T/와섭 AI 프로젝트/3차/40.개발/dataset/origin/36-FemaleNoGlasses-Yawning-labeled.json')),\n",
       " (PosixPath('/Volumes/EX_SSD_1T/와섭 AI 프로젝트/3차/40.개발/dataset/origin/38-FemaleNoGlasses-Yawning-labeled.csv'),\n",
       "  PosixPath('/Volumes/EX_SSD_1T/와섭 AI 프로젝트/3차/40.개발/dataset/origin/38-FemaleNoGlasses-Yawning-labeled.json')),\n",
       " (PosixPath('/Volumes/EX_SSD_1T/와섭 AI 프로젝트/3차/40.개발/dataset/origin/36-FemaleNoGlasses-Normal-labeled.csv'),\n",
       "  PosixPath('/Volumes/EX_SSD_1T/와섭 AI 프로젝트/3차/40.개발/dataset/origin/36-FemaleNoGlasses-Normal-labeled.json')),\n",
       " (PosixPath('/Volumes/EX_SSD_1T/와섭 AI 프로젝트/3차/40.개발/dataset/origin/4-FemaleGlasses-Yawning-labeled.csv'),\n",
       "  PosixPath('/Volumes/EX_SSD_1T/와섭 AI 프로젝트/3차/40.개발/dataset/origin/4-FemaleGlasses-Yawning-labeled.json')),\n",
       " (PosixPath('/Volumes/EX_SSD_1T/와섭 AI 프로젝트/3차/40.개발/dataset/origin/18-FemaleNoGlasses-Normal-labeled.csv'),\n",
       "  PosixPath('/Volumes/EX_SSD_1T/와섭 AI 프로젝트/3차/40.개발/dataset/origin/18-FemaleNoGlasses-Normal-labeled.json')),\n",
       " (PosixPath('/Volumes/EX_SSD_1T/와섭 AI 프로젝트/3차/40.개발/dataset/origin/36-MaleNoGlasses-Yawning-label.csv'),\n",
       "  PosixPath('/Volumes/EX_SSD_1T/와섭 AI 프로젝트/3차/40.개발/dataset/origin/36-MaleNoGlasses-Yawning-label.json')),\n",
       " (PosixPath('/Volumes/EX_SSD_1T/와섭 AI 프로젝트/3차/40.개발/dataset/origin/39-MaleGlasses-Yawning-label.csv'),\n",
       "  PosixPath('/Volumes/EX_SSD_1T/와섭 AI 프로젝트/3차/40.개발/dataset/origin/39-MaleGlasses-Yawning-label.json')),\n",
       " (PosixPath('/Volumes/EX_SSD_1T/와섭 AI 프로젝트/3차/40.개발/dataset/origin/28-FemaleNoGlasses-Normal-labeled.csv'),\n",
       "  PosixPath('/Volumes/EX_SSD_1T/와섭 AI 프로젝트/3차/40.개발/dataset/origin/28-FemaleNoGlasses-Normal-labeled.json')),\n",
       " (PosixPath('/Volumes/EX_SSD_1T/와섭 AI 프로젝트/3차/40.개발/dataset/origin/7-FemaleGlasses-Yawning-labeled.csv'),\n",
       "  PosixPath('/Volumes/EX_SSD_1T/와섭 AI 프로젝트/3차/40.개발/dataset/origin/7-FemaleGlasses-Yawning-labeled.json')),\n",
       " (PosixPath('/Volumes/EX_SSD_1T/와섭 AI 프로젝트/3차/40.개발/dataset/origin/23-MaleNoGlasses-Yawning-label.csv'),\n",
       "  PosixPath('/Volumes/EX_SSD_1T/와섭 AI 프로젝트/3차/40.개발/dataset/origin/23-MaleNoGlasses-Yawning-label.json')),\n",
       " (PosixPath('/Volumes/EX_SSD_1T/와섭 AI 프로젝트/3차/40.개발/dataset/origin/28-FemaleNoGlasses-Yawning-labeled.csv'),\n",
       "  PosixPath('/Volumes/EX_SSD_1T/와섭 AI 프로젝트/3차/40.개발/dataset/origin/28-FemaleNoGlasses-Yawning-labeled.json')),\n",
       " (PosixPath('/Volumes/EX_SSD_1T/와섭 AI 프로젝트/3차/40.개발/dataset/origin/30-MaleGlasses-Normal-label.csv'),\n",
       "  PosixPath('/Volumes/EX_SSD_1T/와섭 AI 프로젝트/3차/40.개발/dataset/origin/30-MaleGlasses-Normal-label.json')),\n",
       " (PosixPath('/Volumes/EX_SSD_1T/와섭 AI 프로젝트/3차/40.개발/dataset/origin/31-FemaleNoGlasses-Normal-labeled.csv'),\n",
       "  PosixPath('/Volumes/EX_SSD_1T/와섭 AI 프로젝트/3차/40.개발/dataset/origin/31-FemaleNoGlasses-Normal-labeled.json')),\n",
       " (PosixPath('/Volumes/EX_SSD_1T/와섭 AI 프로젝트/3차/40.개발/dataset/origin/43-FemaleNoGlasses-Yawning-labeled.csv'),\n",
       "  PosixPath('/Volumes/EX_SSD_1T/와섭 AI 프로젝트/3차/40.개발/dataset/origin/43-FemaleNoGlasses-Yawning-labeled.json')),\n",
       " (PosixPath('/Volumes/EX_SSD_1T/와섭 AI 프로젝트/3차/40.개발/dataset/origin/26-FemaleGlasses-Normal-labeled.csv'),\n",
       "  PosixPath('/Volumes/EX_SSD_1T/와섭 AI 프로젝트/3차/40.개발/dataset/origin/26-FemaleGlasses-Normal-labeled.json')),\n",
       " (PosixPath('/Volumes/EX_SSD_1T/와섭 AI 프로젝트/3차/40.개발/dataset/origin/16-FemaleGlasses-Yawning-labeled.csv'),\n",
       "  PosixPath('/Volumes/EX_SSD_1T/와섭 AI 프로젝트/3차/40.개발/dataset/origin/16-FemaleGlasses-Yawning-labeled.json')),\n",
       " (PosixPath('/Volumes/EX_SSD_1T/와섭 AI 프로젝트/3차/40.개발/dataset/origin/9-MaleNoGlasses-Normal-label.csv'),\n",
       "  PosixPath('/Volumes/EX_SSD_1T/와섭 AI 프로젝트/3차/40.개발/dataset/origin/9-MaleNoGlasses-Normal-label.json')),\n",
       " (PosixPath('/Volumes/EX_SSD_1T/와섭 AI 프로젝트/3차/40.개발/dataset/origin/35-FemaleNoGlasses-Talking&Yawning-labeled.csv'),\n",
       "  PosixPath('/Volumes/EX_SSD_1T/와섭 AI 프로젝트/3차/40.개발/dataset/origin/35-FemaleNoGlasses-Talking&Yawning-labeled.json')),\n",
       " (PosixPath('/Volumes/EX_SSD_1T/와섭 AI 프로젝트/3차/40.개발/dataset/origin/21-MaleGlasses-Normal-label.csv'),\n",
       "  PosixPath('/Volumes/EX_SSD_1T/와섭 AI 프로젝트/3차/40.개발/dataset/origin/21-MaleGlasses-Normal-label.json')),\n",
       " (PosixPath('/Volumes/EX_SSD_1T/와섭 AI 프로젝트/3차/40.개발/dataset/origin/5-FemaleGlasses-Normal-labeled.csv'),\n",
       "  PosixPath('/Volumes/EX_SSD_1T/와섭 AI 프로젝트/3차/40.개발/dataset/origin/5-FemaleGlasses-Normal-labeled.json')),\n",
       " (PosixPath('/Volumes/EX_SSD_1T/와섭 AI 프로젝트/3차/40.개발/dataset/origin/31-FemaleGlasses-Yawning-labeled.csv'),\n",
       "  PosixPath('/Volumes/EX_SSD_1T/와섭 AI 프로젝트/3차/40.개발/dataset/origin/31-FemaleGlasses-Yawning-labeled.json')),\n",
       " (PosixPath('/Volumes/EX_SSD_1T/와섭 AI 프로젝트/3차/40.개발/dataset/origin/10-FemaleNoGlasses-Yawning-labeled.csv'),\n",
       "  PosixPath('/Volumes/EX_SSD_1T/와섭 AI 프로젝트/3차/40.개발/dataset/origin/10-FemaleNoGlasses-Yawning-labeled.json')),\n",
       " (PosixPath('/Volumes/EX_SSD_1T/와섭 AI 프로젝트/3차/40.개발/dataset/origin/31-FemaleNoGlasses-Yawning-labeled.csv'),\n",
       "  PosixPath('/Volumes/EX_SSD_1T/와섭 AI 프로젝트/3차/40.개발/dataset/origin/31-FemaleNoGlasses-Yawning-labeled.json')),\n",
       " (PosixPath('/Volumes/EX_SSD_1T/와섭 AI 프로젝트/3차/40.개발/dataset/origin/17-FemaleNoGlasses-Normal-labeled.csv'),\n",
       "  PosixPath('/Volumes/EX_SSD_1T/와섭 AI 프로젝트/3차/40.개발/dataset/origin/17-FemaleNoGlasses-Normal-labeled.json')),\n",
       " (PosixPath('/Volumes/EX_SSD_1T/와섭 AI 프로젝트/3차/40.개발/dataset/origin/9-FemaleNoGlasses-Yawning-labeled.csv'),\n",
       "  PosixPath('/Volumes/EX_SSD_1T/와섭 AI 프로젝트/3차/40.개발/dataset/origin/9-FemaleNoGlasses-Yawning-labeled.json')),\n",
       " (PosixPath('/Volumes/EX_SSD_1T/와섭 AI 프로젝트/3차/40.개발/dataset/origin/30-FemaleNoGlasses-Yawning-labeled.csv'),\n",
       "  PosixPath('/Volumes/EX_SSD_1T/와섭 AI 프로젝트/3차/40.개발/dataset/origin/30-FemaleNoGlasses-Yawning-labeled.json')),\n",
       " (PosixPath('/Volumes/EX_SSD_1T/와섭 AI 프로젝트/3차/40.개발/dataset/origin/30-FemaleNoGlasses-Normal-labeled.csv'),\n",
       "  PosixPath('/Volumes/EX_SSD_1T/와섭 AI 프로젝트/3차/40.개발/dataset/origin/30-FemaleNoGlasses-Normal-labeled.json')),\n",
       " (PosixPath('/Volumes/EX_SSD_1T/와섭 AI 프로젝트/3차/40.개발/dataset/origin/6-MaleNoGlasses-Normal-label.csv'),\n",
       "  PosixPath('/Volumes/EX_SSD_1T/와섭 AI 프로젝트/3차/40.개발/dataset/origin/6-MaleNoGlasses-Normal-label.json')),\n",
       " (PosixPath('/Volumes/EX_SSD_1T/와섭 AI 프로젝트/3차/40.개발/dataset/origin/37-MaleNoGlasses-Yawning-label.csv'),\n",
       "  PosixPath('/Volumes/EX_SSD_1T/와섭 AI 프로젝트/3차/40.개발/dataset/origin/37-MaleNoGlasses-Yawning-label.json')),\n",
       " (PosixPath('/Volumes/EX_SSD_1T/와섭 AI 프로젝트/3차/40.개발/dataset/origin/47-MaleNoGlasses-Normal-label.csv'),\n",
       "  PosixPath('/Volumes/EX_SSD_1T/와섭 AI 프로젝트/3차/40.개발/dataset/origin/47-MaleNoGlasses-Normal-label.json')),\n",
       " (PosixPath('/Volumes/EX_SSD_1T/와섭 AI 프로젝트/3차/40.개발/dataset/origin/gC_14_s5_2019-03-12T09_18_58+01_00_rgb_face-labeled.csv'),\n",
       "  PosixPath('/Volumes/EX_SSD_1T/와섭 AI 프로젝트/3차/40.개발/dataset/origin/gC_14_s5_2019-03-12T09_18_58+01_00_rgb_face-labeled.json')),\n",
       " (PosixPath('/Volumes/EX_SSD_1T/와섭 AI 프로젝트/3차/40.개발/dataset/origin/38-MaleNoGlasses-Normal-label.csv'),\n",
       "  PosixPath('/Volumes/EX_SSD_1T/와섭 AI 프로젝트/3차/40.개발/dataset/origin/38-MaleNoGlasses-Normal-label.json')),\n",
       " (PosixPath('/Volumes/EX_SSD_1T/와섭 AI 프로젝트/3차/40.개발/dataset/origin/43-FemaleNoGlasses-Normal-labeled.csv'),\n",
       "  PosixPath('/Volumes/EX_SSD_1T/와섭 AI 프로젝트/3차/40.개발/dataset/origin/43-FemaleNoGlasses-Normal-labeled.json')),\n",
       " (PosixPath('/Volumes/EX_SSD_1T/와섭 AI 프로젝트/3차/40.개발/dataset/origin/27-MaleNoGlasses-Yawning-label.csv'),\n",
       "  PosixPath('/Volumes/EX_SSD_1T/와섭 AI 프로젝트/3차/40.개발/dataset/origin/27-MaleNoGlasses-Yawning-label.json')),\n",
       " (PosixPath('/Volumes/EX_SSD_1T/와섭 AI 프로젝트/3차/40.개발/dataset/origin/34-MaleNoGlasses-Yawning-label.csv'),\n",
       "  PosixPath('/Volumes/EX_SSD_1T/와섭 AI 프로젝트/3차/40.개발/dataset/origin/34-MaleNoGlasses-Yawning-label.json')),\n",
       " (PosixPath('/Volumes/EX_SSD_1T/와섭 AI 프로젝트/3차/40.개발/dataset/origin/18-FemaleNoGlasses-Yawning-labeled.csv'),\n",
       "  PosixPath('/Volumes/EX_SSD_1T/와섭 AI 프로젝트/3차/40.개발/dataset/origin/18-FemaleNoGlasses-Yawning-labeled.json')),\n",
       " (PosixPath('/Volumes/EX_SSD_1T/와섭 AI 프로젝트/3차/40.개발/dataset/origin/20-MaleGlasses-Normal-label.csv'),\n",
       "  PosixPath('/Volumes/EX_SSD_1T/와섭 AI 프로젝트/3차/40.개발/dataset/origin/20-MaleGlasses-Normal-label.json')),\n",
       " (PosixPath('/Volumes/EX_SSD_1T/와섭 AI 프로젝트/3차/40.개발/dataset/origin/6-MaleNoGlasses-Yawning-label.csv'),\n",
       "  PosixPath('/Volumes/EX_SSD_1T/와섭 AI 프로젝트/3차/40.개발/dataset/origin/6-MaleNoGlasses-Yawning-label.json')),\n",
       " (PosixPath('/Volumes/EX_SSD_1T/와섭 AI 프로젝트/3차/40.개발/dataset/origin/39-FemaleNoGlasses-Yawning-labeled.csv'),\n",
       "  PosixPath('/Volumes/EX_SSD_1T/와섭 AI 프로젝트/3차/40.개발/dataset/origin/39-FemaleNoGlasses-Yawning-labeled.json')),\n",
       " (PosixPath('/Volumes/EX_SSD_1T/와섭 AI 프로젝트/3차/40.개발/dataset/origin/gA_4_s5_2019-03-13T10_56_52+01_00_rgb_face-labeled.csv'),\n",
       "  PosixPath('/Volumes/EX_SSD_1T/와섭 AI 프로젝트/3차/40.개발/dataset/origin/gA_4_s5_2019-03-13T10_56_52+01_00_rgb_face-labeled.json')),\n",
       " (PosixPath('/Volumes/EX_SSD_1T/와섭 AI 프로젝트/3차/40.개발/dataset/origin/38-FemaleNoGlasses-Normal-labeled.csv'),\n",
       "  PosixPath('/Volumes/EX_SSD_1T/와섭 AI 프로젝트/3차/40.개발/dataset/origin/38-FemaleNoGlasses-Normal-labeled.json')),\n",
       " (PosixPath('/Volumes/EX_SSD_1T/와섭 AI 프로젝트/3차/40.개발/dataset/origin/8-FemaleGlasses-Yawning-labeled.csv'),\n",
       "  PosixPath('/Volumes/EX_SSD_1T/와섭 AI 프로젝트/3차/40.개발/dataset/origin/8-FemaleGlasses-Yawning-labeled.json')),\n",
       " (PosixPath('/Volumes/EX_SSD_1T/와섭 AI 프로젝트/3차/40.개발/dataset/origin/2-FemaleNoGlasses-Yawning-labeled.csv'),\n",
       "  PosixPath('/Volumes/EX_SSD_1T/와섭 AI 프로젝트/3차/40.개발/dataset/origin/2-FemaleNoGlasses-Yawning-labeled.json')),\n",
       " (PosixPath('/Volumes/EX_SSD_1T/와섭 AI 프로젝트/3차/40.개발/dataset/origin/13-MaleGlasses-Yawning-label.csv'),\n",
       "  PosixPath('/Volumes/EX_SSD_1T/와섭 AI 프로젝트/3차/40.개발/dataset/origin/13-MaleGlasses-Yawning-label.json')),\n",
       " (PosixPath('/Volumes/EX_SSD_1T/와섭 AI 프로젝트/3차/40.개발/dataset/origin/25-FemaleNoGlasses-Normal-labeled.csv'),\n",
       "  PosixPath('/Volumes/EX_SSD_1T/와섭 AI 프로젝트/3차/40.개발/dataset/origin/25-FemaleNoGlasses-Normal-labeled.json')),\n",
       " (PosixPath('/Volumes/EX_SSD_1T/와섭 AI 프로젝트/3차/40.개발/dataset/origin/22-FemaleNoGlasses-Normal-labeled.csv'),\n",
       "  PosixPath('/Volumes/EX_SSD_1T/와섭 AI 프로젝트/3차/40.개발/dataset/origin/22-FemaleNoGlasses-Normal-labeled.json')),\n",
       " (PosixPath('/Volumes/EX_SSD_1T/와섭 AI 프로젝트/3차/40.개발/dataset/origin/29-MaleNoGlasses-Normal-label.csv'),\n",
       "  PosixPath('/Volumes/EX_SSD_1T/와섭 AI 프로젝트/3차/40.개발/dataset/origin/29-MaleNoGlasses-Normal-label.json')),\n",
       " (PosixPath('/Volumes/EX_SSD_1T/와섭 AI 프로젝트/3차/40.개발/dataset/origin/3-MaleGlasses-Normal-label.csv'),\n",
       "  PosixPath('/Volumes/EX_SSD_1T/와섭 AI 프로젝트/3차/40.개발/dataset/origin/3-MaleGlasses-Normal-label.json')),\n",
       " (PosixPath('/Volumes/EX_SSD_1T/와섭 AI 프로젝트/3차/40.개발/dataset/origin/19-MaleGlassesmoustache-Yawning-label.csv'),\n",
       "  PosixPath('/Volumes/EX_SSD_1T/와섭 AI 프로젝트/3차/40.개발/dataset/origin/19-MaleGlassesmoustache-Yawning-label.json')),\n",
       " (PosixPath('/Volumes/EX_SSD_1T/와섭 AI 프로젝트/3차/40.개발/dataset/origin/3-FemaleGlasses-Yawning-labeled.csv'),\n",
       "  PosixPath('/Volumes/EX_SSD_1T/와섭 AI 프로젝트/3차/40.개발/dataset/origin/3-FemaleGlasses-Yawning-labeled.json')),\n",
       " (PosixPath('/Volumes/EX_SSD_1T/와섭 AI 프로젝트/3차/40.개발/dataset/origin/34-FemaleNoGlasses-Yawning-labeled.csv'),\n",
       "  PosixPath('/Volumes/EX_SSD_1T/와섭 AI 프로젝트/3차/40.개발/dataset/origin/34-FemaleNoGlasses-Yawning-labeled.json')),\n",
       " (PosixPath('/Volumes/EX_SSD_1T/와섭 AI 프로젝트/3차/40.개발/dataset/origin/7-FemaleGlasses-Normal-labeled.csv'),\n",
       "  PosixPath('/Volumes/EX_SSD_1T/와섭 AI 프로젝트/3차/40.개발/dataset/origin/7-FemaleGlasses-Normal-labeled.json')),\n",
       " (PosixPath('/Volumes/EX_SSD_1T/와섭 AI 프로젝트/3차/40.개발/dataset/origin/43-MaleNoGlasses-Yawning-label.csv'),\n",
       "  PosixPath('/Volumes/EX_SSD_1T/와섭 AI 프로젝트/3차/40.개발/dataset/origin/43-MaleNoGlasses-Yawning-label.json')),\n",
       " (PosixPath('/Volumes/EX_SSD_1T/와섭 AI 프로젝트/3차/40.개발/dataset/origin/15-MaleNoGlasses-Yawning-label.csv'),\n",
       "  PosixPath('/Volumes/EX_SSD_1T/와섭 AI 프로젝트/3차/40.개발/dataset/origin/15-MaleNoGlasses-Yawning-label.json')),\n",
       " (PosixPath('/Volumes/EX_SSD_1T/와섭 AI 프로젝트/3차/40.개발/dataset/origin/8-MaleGlassesBeard-Normal-label.csv'),\n",
       "  PosixPath('/Volumes/EX_SSD_1T/와섭 AI 프로젝트/3차/40.개발/dataset/origin/8-MaleGlassesBeard-Normal-label.json')),\n",
       " (PosixPath('/Volumes/EX_SSD_1T/와섭 AI 프로젝트/3차/40.개발/dataset/origin/40-MaleNoGlasses-Normal-label.csv'),\n",
       "  PosixPath('/Volumes/EX_SSD_1T/와섭 AI 프로젝트/3차/40.개발/dataset/origin/40-MaleNoGlasses-Normal-label.json')),\n",
       " (PosixPath('/Volumes/EX_SSD_1T/와섭 AI 프로젝트/3차/40.개발/dataset/origin/26-MaleNoGlasses-Normal-label.csv'),\n",
       "  PosixPath('/Volumes/EX_SSD_1T/와섭 AI 프로젝트/3차/40.개발/dataset/origin/26-MaleNoGlasses-Normal-label.json')),\n",
       " (PosixPath('/Volumes/EX_SSD_1T/와섭 AI 프로젝트/3차/40.개발/dataset/origin/23-FemaleNoGlasses-Talking&Yawning-labeled.csv'),\n",
       "  PosixPath('/Volumes/EX_SSD_1T/와섭 AI 프로젝트/3차/40.개발/dataset/origin/23-FemaleNoGlasses-Talking&Yawning-labeled.json')),\n",
       " (PosixPath('/Volumes/EX_SSD_1T/와섭 AI 프로젝트/3차/40.개발/dataset/origin/42-MaleNoGlasses-Yawning-label.csv'),\n",
       "  PosixPath('/Volumes/EX_SSD_1T/와섭 AI 프로젝트/3차/40.개발/dataset/origin/42-MaleNoGlasses-Yawning-label.json')),\n",
       " (PosixPath('/Volumes/EX_SSD_1T/와섭 AI 프로젝트/3차/40.개발/dataset/origin/13-MaleGlasses-Normal-label.csv'),\n",
       "  PosixPath('/Volumes/EX_SSD_1T/와섭 AI 프로젝트/3차/40.개발/dataset/origin/13-MaleGlasses-Normal-label.json')),\n",
       " (PosixPath('/Volumes/EX_SSD_1T/와섭 AI 프로젝트/3차/40.개발/dataset/origin/21-FemaleNoGlasses-Normal-labeled.csv'),\n",
       "  PosixPath('/Volumes/EX_SSD_1T/와섭 AI 프로젝트/3차/40.개발/dataset/origin/21-FemaleNoGlasses-Normal-labeled.json')),\n",
       " (PosixPath('/Volumes/EX_SSD_1T/와섭 AI 프로젝트/3차/40.개발/dataset/origin/3-FemaleGlasses-Normal-labeled.csv'),\n",
       "  PosixPath('/Volumes/EX_SSD_1T/와섭 AI 프로젝트/3차/40.개발/dataset/origin/3-FemaleGlasses-Normal-labeled.json')),\n",
       " (PosixPath('/Volumes/EX_SSD_1T/와섭 AI 프로젝트/3차/40.개발/dataset/origin/26-MaleNoGlasses-Yawning-label.csv'),\n",
       "  PosixPath('/Volumes/EX_SSD_1T/와섭 AI 프로젝트/3차/40.개발/dataset/origin/26-MaleNoGlasses-Yawning-label.json')),\n",
       " (PosixPath('/Volumes/EX_SSD_1T/와섭 AI 프로젝트/3차/40.개발/dataset/origin/39-MaleGlasses-Normal-label.csv'),\n",
       "  PosixPath('/Volumes/EX_SSD_1T/와섭 AI 프로젝트/3차/40.개발/dataset/origin/39-MaleGlasses-Normal-label.json')),\n",
       " (PosixPath('/Volumes/EX_SSD_1T/와섭 AI 프로젝트/3차/40.개발/dataset/origin/14-FemaleNoGlasses-Yawning-labeled.csv'),\n",
       "  PosixPath('/Volumes/EX_SSD_1T/와섭 AI 프로젝트/3차/40.개발/dataset/origin/14-FemaleNoGlasses-Yawning-labeled.json')),\n",
       " (PosixPath('/Volumes/EX_SSD_1T/와섭 AI 프로젝트/3차/40.개발/dataset/origin/3-MaleNoGlasses-Normal-label.csv'),\n",
       "  PosixPath('/Volumes/EX_SSD_1T/와섭 AI 프로젝트/3차/40.개발/dataset/origin/3-MaleNoGlasses-Normal-label.json')),\n",
       " (PosixPath('/Volumes/EX_SSD_1T/와섭 AI 프로젝트/3차/40.개발/dataset/origin/17-MaleNoGlasses-Normal-label.csv'),\n",
       "  PosixPath('/Volumes/EX_SSD_1T/와섭 AI 프로젝트/3차/40.개발/dataset/origin/17-MaleNoGlasses-Normal-label.json')),\n",
       " (PosixPath('/Volumes/EX_SSD_1T/와섭 AI 프로젝트/3차/40.개발/dataset/origin/38-MaleNoGlasses-Yawning-label.csv'),\n",
       "  PosixPath('/Volumes/EX_SSD_1T/와섭 AI 프로젝트/3차/40.개발/dataset/origin/38-MaleNoGlasses-Yawning-label.json')),\n",
       " (PosixPath('/Volumes/EX_SSD_1T/와섭 AI 프로젝트/3차/40.개발/dataset/origin/34-MaleNoGlasses-Normal-label.csv'),\n",
       "  PosixPath('/Volumes/EX_SSD_1T/와섭 AI 프로젝트/3차/40.개발/dataset/origin/34-MaleNoGlasses-Normal-label.json')),\n",
       " (PosixPath('/Volumes/EX_SSD_1T/와섭 AI 프로젝트/3차/40.개발/dataset/origin/12-FemaleNoGlasses-Normal-labeled.csv'),\n",
       "  PosixPath('/Volumes/EX_SSD_1T/와섭 AI 프로젝트/3차/40.개발/dataset/origin/12-FemaleNoGlasses-Normal-labeled.json')),\n",
       " (PosixPath('/Volumes/EX_SSD_1T/와섭 AI 프로젝트/3차/40.개발/dataset/origin/24-MaleGlasses-Yawning-label.csv'),\n",
       "  PosixPath('/Volumes/EX_SSD_1T/와섭 AI 프로젝트/3차/40.개발/dataset/origin/24-MaleGlasses-Yawning-label.json')),\n",
       " (PosixPath('/Volumes/EX_SSD_1T/와섭 AI 프로젝트/3차/40.개발/dataset/origin/8-FemaleGlasses-Normal-labeled.csv'),\n",
       "  PosixPath('/Volumes/EX_SSD_1T/와섭 AI 프로젝트/3차/40.개발/dataset/origin/8-FemaleGlasses-Normal-labeled.json')),\n",
       " (PosixPath('/Volumes/EX_SSD_1T/와섭 AI 프로젝트/3차/40.개발/dataset/origin/29-FemaleNoGlasses-Normal-labeled.csv'),\n",
       "  PosixPath('/Volumes/EX_SSD_1T/와섭 AI 프로젝트/3차/40.개발/dataset/origin/29-FemaleNoGlasses-Normal-labeled.json')),\n",
       " (PosixPath('/Volumes/EX_SSD_1T/와섭 AI 프로젝트/3차/40.개발/dataset/origin/29-MaleNoGlasses-Yawning-label.csv'),\n",
       "  PosixPath('/Volumes/EX_SSD_1T/와섭 AI 프로젝트/3차/40.개발/dataset/origin/29-MaleNoGlasses-Yawning-label.json')),\n",
       " (PosixPath('/Volumes/EX_SSD_1T/와섭 AI 프로젝트/3차/40.개발/dataset/origin/15-MaleNoGlasses-Normal-label.csv'),\n",
       "  PosixPath('/Volumes/EX_SSD_1T/와섭 AI 프로젝트/3차/40.개발/dataset/origin/15-MaleNoGlasses-Normal-label.json')),\n",
       " (PosixPath('/Volumes/EX_SSD_1T/와섭 AI 프로젝트/3차/40.개발/dataset/origin/3-MaleNoGlasses-Yawning-label.csv'),\n",
       "  PosixPath('/Volumes/EX_SSD_1T/와섭 AI 프로젝트/3차/40.개발/dataset/origin/3-MaleNoGlasses-Yawning-label.json')),\n",
       " (PosixPath('/Volumes/EX_SSD_1T/와섭 AI 프로젝트/3차/40.개발/dataset/origin/9-FemaleNoGlasses-Normal-labeled.csv'),\n",
       "  PosixPath('/Volumes/EX_SSD_1T/와섭 AI 프로젝트/3차/40.개발/dataset/origin/9-FemaleNoGlasses-Normal-labeled.json')),\n",
       " (PosixPath('/Volumes/EX_SSD_1T/와섭 AI 프로젝트/3차/40.개발/dataset/origin/gB_10_s5_2019-03-12T10_35_20+01_00_rgb_face-labeled.csv'),\n",
       "  PosixPath('/Volumes/EX_SSD_1T/와섭 AI 프로젝트/3차/40.개발/dataset/origin/gB_10_s5_2019-03-12T10_35_20+01_00_rgb_face-labeled.json'))]"
      ]
     },
     "execution_count": 14,
     "metadata": {},
     "output_type": "execute_result"
    }
   ],
   "source": [
    "train_pairs"
   ]
  },
  {
   "cell_type": "markdown",
   "id": "4e84422e",
   "metadata": {},
   "source": [
    "#### 스케일링.."
   ]
  },
  {
   "cell_type": "code",
   "execution_count": 15,
   "id": "d8b46e56",
   "metadata": {},
   "outputs": [],
   "source": [
    "def fit_standardizer(X: np.ndarray):\n",
    "    \"\"\"\n",
    "    채널별 표준화 스케일러(평균/표준편차) 반환.\n",
    "    \"\"\"\n",
    "    # X shape: (N, T, C)\n",
    "    mean = X.reshape(-1, X.shape[-1]).mean(axis=0)\n",
    "    std = X.reshape(-1, X.shape[-1]).std(axis=0)\n",
    "    std = np.where(std < 1e-8, 1.0, std)\n",
    "    return mean.astype(np.float32), std.astype(np.float32)\n",
    "\n",
    "def apply_standardizer(X: np.ndarray, mean: np.ndarray, std: np.ndarray):\n",
    "    return (X - mean) / std"
   ]
  },
  {
   "cell_type": "code",
   "execution_count": 28,
   "id": "b5f3068a",
   "metadata": {},
   "outputs": [],
   "source": [
    "# 스케일링 (학습 기반)\n",
    "mean, std = fit_standardizer(Xtr)\n",
    "Xtr = apply_standardizer(Xtr, mean, std)\n",
    "Xva = apply_standardizer(Xva, mean, std)"
   ]
  },
  {
   "cell_type": "markdown",
   "id": "17912307",
   "metadata": {},
   "source": [
    "#### TF 데이타셋"
   ]
  },
  {
   "cell_type": "code",
   "execution_count": 16,
   "id": "036988df",
   "metadata": {},
   "outputs": [],
   "source": [
    "def to_tf_dataset(X: np.ndarray, y: np.ndarray, batch=64, shuffle=True):\n",
    "    # y를 인덱스로 변환(-1..3 → 0..4)\n",
    "    y_idx = np.array([LEVEL_TO_INDEX[int(v)] for v in y], dtype=np.int32)\n",
    "    ds = tf.data.Dataset.from_tensor_slices((X, y_idx))\n",
    "    if shuffle:\n",
    "        ds = ds.shuffle(min(len(X), 10000), seed=RANDOM_SEED)\n",
    "    ds = ds.batch(batch).prefetch(tf.data.AUTOTUNE)\n",
    "    return ds"
   ]
  },
  {
   "cell_type": "code",
   "execution_count": 18,
   "id": "ece64d65",
   "metadata": {},
   "outputs": [],
   "source": [
    "batch = 64"
   ]
  },
  {
   "cell_type": "code",
   "execution_count": 19,
   "id": "c33be86f",
   "metadata": {},
   "outputs": [
    {
     "name": "stderr",
     "output_type": "stream",
     "text": [
      "WARNING: All log messages before absl::InitializeLog() is called are written to STDERR\n",
      "I0000 00:00:1756018512.911932 4553704 pluggable_device_factory.cc:305] Could not identify NUMA node of platform GPU ID 0, defaulting to 0. Your kernel may not have been built with NUMA support.\n",
      "I0000 00:00:1756018512.912003 4553704 pluggable_device_factory.cc:271] Created TensorFlow device (/job:localhost/replica:0/task:0/device:GPU:0 with 0 MB memory) -> physical PluggableDevice (device: 0, name: METAL, pci bus id: <undefined>)\n"
     ]
    }
   ],
   "source": [
    "# TF Dataset\n",
    "ds_tr = to_tf_dataset(Xtr, ytr, batch=batch, shuffle=True)\n",
    "ds_va = to_tf_dataset(Xva, yva, batch=batch, shuffle=False)"
   ]
  },
  {
   "cell_type": "markdown",
   "id": "17888b8e",
   "metadata": {},
   "source": [
    "#### 모델 생성 함수"
   ]
  },
  {
   "cell_type": "code",
   "execution_count": 20,
   "id": "5b746f85",
   "metadata": {},
   "outputs": [],
   "source": [
    "# =========================\n",
    "# 2) 모델 --> 테스트 시 여러 모델 테스트 필요 함..\n",
    "# =========================\n",
    "def build_lstm_model(seq_len: int, n_feat: int, n_classes: int = 5) -> tf.keras.Model:\n",
    "    \"\"\"\n",
    "    BiLSTM 스택 + LayerNorm + Dropout.\n",
    "    합리적 기본값으로 튜닝된 구조.\n",
    "    \"\"\"\n",
    "    inp = layers.Input(shape=(seq_len, n_feat))\n",
    "    x = layers.LayerNormalization()(inp)\n",
    "    x = layers.Bidirectional(layers.LSTM(128, return_sequences=True))(x)\n",
    "    x = layers.Dropout(0.3)(x)\n",
    "    x = layers.Bidirectional(layers.LSTM(64))(x)\n",
    "    x = layers.Dropout(0.3)(x)\n",
    "    x = layers.Dense(64, activation=\"relu\")(x)\n",
    "    x = layers.Dropout(0.2)(x)\n",
    "    out = layers.Dense(n_classes, activation=\"softmax\")(x)\n",
    "\n",
    "    model = models.Model(inp, out)\n",
    "    model.compile(\n",
    "        optimizer=optimizers.Adam(1e-3),\n",
    "        loss=\"sparse_categorical_crossentropy\",\n",
    "        metrics=[\"accuracy\"]\n",
    "    )\n",
    "    return model"
   ]
  },
  {
   "cell_type": "code",
   "execution_count": 21,
   "id": "4896a60e",
   "metadata": {},
   "outputs": [
    {
     "data": {
      "text/html": [
       "<pre style=\"white-space:pre;overflow-x:auto;line-height:normal;font-family:Menlo,'DejaVu Sans Mono',consolas,'Courier New',monospace\"><span style=\"font-weight: bold\">Model: \"functional\"</span>\n",
       "</pre>\n"
      ],
      "text/plain": [
       "\u001b[1mModel: \"functional\"\u001b[0m\n"
      ]
     },
     "metadata": {},
     "output_type": "display_data"
    },
    {
     "data": {
      "text/html": [
       "<pre style=\"white-space:pre;overflow-x:auto;line-height:normal;font-family:Menlo,'DejaVu Sans Mono',consolas,'Courier New',monospace\">┏━━━━━━━━━━━━━━━━━━━━━━━━━━━━━━━━━┳━━━━━━━━━━━━━━━━━━━━━━━━┳━━━━━━━━━━━━━━━┓\n",
       "┃<span style=\"font-weight: bold\"> Layer (type)                    </span>┃<span style=\"font-weight: bold\"> Output Shape           </span>┃<span style=\"font-weight: bold\">       Param # </span>┃\n",
       "┡━━━━━━━━━━━━━━━━━━━━━━━━━━━━━━━━━╇━━━━━━━━━━━━━━━━━━━━━━━━╇━━━━━━━━━━━━━━━┩\n",
       "│ input_layer (<span style=\"color: #0087ff; text-decoration-color: #0087ff\">InputLayer</span>)        │ (<span style=\"color: #00d7ff; text-decoration-color: #00d7ff\">None</span>, <span style=\"color: #00af00; text-decoration-color: #00af00\">150</span>, <span style=\"color: #00af00; text-decoration-color: #00af00\">6</span>)         │             <span style=\"color: #00af00; text-decoration-color: #00af00\">0</span> │\n",
       "├─────────────────────────────────┼────────────────────────┼───────────────┤\n",
       "│ layer_normalization             │ (<span style=\"color: #00d7ff; text-decoration-color: #00d7ff\">None</span>, <span style=\"color: #00af00; text-decoration-color: #00af00\">150</span>, <span style=\"color: #00af00; text-decoration-color: #00af00\">6</span>)         │            <span style=\"color: #00af00; text-decoration-color: #00af00\">12</span> │\n",
       "│ (<span style=\"color: #0087ff; text-decoration-color: #0087ff\">LayerNormalization</span>)            │                        │               │\n",
       "├─────────────────────────────────┼────────────────────────┼───────────────┤\n",
       "│ bidirectional (<span style=\"color: #0087ff; text-decoration-color: #0087ff\">Bidirectional</span>)   │ (<span style=\"color: #00d7ff; text-decoration-color: #00d7ff\">None</span>, <span style=\"color: #00af00; text-decoration-color: #00af00\">150</span>, <span style=\"color: #00af00; text-decoration-color: #00af00\">256</span>)       │       <span style=\"color: #00af00; text-decoration-color: #00af00\">138,240</span> │\n",
       "├─────────────────────────────────┼────────────────────────┼───────────────┤\n",
       "│ dropout (<span style=\"color: #0087ff; text-decoration-color: #0087ff\">Dropout</span>)               │ (<span style=\"color: #00d7ff; text-decoration-color: #00d7ff\">None</span>, <span style=\"color: #00af00; text-decoration-color: #00af00\">150</span>, <span style=\"color: #00af00; text-decoration-color: #00af00\">256</span>)       │             <span style=\"color: #00af00; text-decoration-color: #00af00\">0</span> │\n",
       "├─────────────────────────────────┼────────────────────────┼───────────────┤\n",
       "│ bidirectional_1 (<span style=\"color: #0087ff; text-decoration-color: #0087ff\">Bidirectional</span>) │ (<span style=\"color: #00d7ff; text-decoration-color: #00d7ff\">None</span>, <span style=\"color: #00af00; text-decoration-color: #00af00\">128</span>)            │       <span style=\"color: #00af00; text-decoration-color: #00af00\">164,352</span> │\n",
       "├─────────────────────────────────┼────────────────────────┼───────────────┤\n",
       "│ dropout_1 (<span style=\"color: #0087ff; text-decoration-color: #0087ff\">Dropout</span>)             │ (<span style=\"color: #00d7ff; text-decoration-color: #00d7ff\">None</span>, <span style=\"color: #00af00; text-decoration-color: #00af00\">128</span>)            │             <span style=\"color: #00af00; text-decoration-color: #00af00\">0</span> │\n",
       "├─────────────────────────────────┼────────────────────────┼───────────────┤\n",
       "│ dense (<span style=\"color: #0087ff; text-decoration-color: #0087ff\">Dense</span>)                   │ (<span style=\"color: #00d7ff; text-decoration-color: #00d7ff\">None</span>, <span style=\"color: #00af00; text-decoration-color: #00af00\">64</span>)             │         <span style=\"color: #00af00; text-decoration-color: #00af00\">8,256</span> │\n",
       "├─────────────────────────────────┼────────────────────────┼───────────────┤\n",
       "│ dropout_2 (<span style=\"color: #0087ff; text-decoration-color: #0087ff\">Dropout</span>)             │ (<span style=\"color: #00d7ff; text-decoration-color: #00d7ff\">None</span>, <span style=\"color: #00af00; text-decoration-color: #00af00\">64</span>)             │             <span style=\"color: #00af00; text-decoration-color: #00af00\">0</span> │\n",
       "├─────────────────────────────────┼────────────────────────┼───────────────┤\n",
       "│ dense_1 (<span style=\"color: #0087ff; text-decoration-color: #0087ff\">Dense</span>)                 │ (<span style=\"color: #00d7ff; text-decoration-color: #00d7ff\">None</span>, <span style=\"color: #00af00; text-decoration-color: #00af00\">5</span>)              │           <span style=\"color: #00af00; text-decoration-color: #00af00\">325</span> │\n",
       "└─────────────────────────────────┴────────────────────────┴───────────────┘\n",
       "</pre>\n"
      ],
      "text/plain": [
       "┏━━━━━━━━━━━━━━━━━━━━━━━━━━━━━━━━━┳━━━━━━━━━━━━━━━━━━━━━━━━┳━━━━━━━━━━━━━━━┓\n",
       "┃\u001b[1m \u001b[0m\u001b[1mLayer (type)                   \u001b[0m\u001b[1m \u001b[0m┃\u001b[1m \u001b[0m\u001b[1mOutput Shape          \u001b[0m\u001b[1m \u001b[0m┃\u001b[1m \u001b[0m\u001b[1m      Param #\u001b[0m\u001b[1m \u001b[0m┃\n",
       "┡━━━━━━━━━━━━━━━━━━━━━━━━━━━━━━━━━╇━━━━━━━━━━━━━━━━━━━━━━━━╇━━━━━━━━━━━━━━━┩\n",
       "│ input_layer (\u001b[38;5;33mInputLayer\u001b[0m)        │ (\u001b[38;5;45mNone\u001b[0m, \u001b[38;5;34m150\u001b[0m, \u001b[38;5;34m6\u001b[0m)         │             \u001b[38;5;34m0\u001b[0m │\n",
       "├─────────────────────────────────┼────────────────────────┼───────────────┤\n",
       "│ layer_normalization             │ (\u001b[38;5;45mNone\u001b[0m, \u001b[38;5;34m150\u001b[0m, \u001b[38;5;34m6\u001b[0m)         │            \u001b[38;5;34m12\u001b[0m │\n",
       "│ (\u001b[38;5;33mLayerNormalization\u001b[0m)            │                        │               │\n",
       "├─────────────────────────────────┼────────────────────────┼───────────────┤\n",
       "│ bidirectional (\u001b[38;5;33mBidirectional\u001b[0m)   │ (\u001b[38;5;45mNone\u001b[0m, \u001b[38;5;34m150\u001b[0m, \u001b[38;5;34m256\u001b[0m)       │       \u001b[38;5;34m138,240\u001b[0m │\n",
       "├─────────────────────────────────┼────────────────────────┼───────────────┤\n",
       "│ dropout (\u001b[38;5;33mDropout\u001b[0m)               │ (\u001b[38;5;45mNone\u001b[0m, \u001b[38;5;34m150\u001b[0m, \u001b[38;5;34m256\u001b[0m)       │             \u001b[38;5;34m0\u001b[0m │\n",
       "├─────────────────────────────────┼────────────────────────┼───────────────┤\n",
       "│ bidirectional_1 (\u001b[38;5;33mBidirectional\u001b[0m) │ (\u001b[38;5;45mNone\u001b[0m, \u001b[38;5;34m128\u001b[0m)            │       \u001b[38;5;34m164,352\u001b[0m │\n",
       "├─────────────────────────────────┼────────────────────────┼───────────────┤\n",
       "│ dropout_1 (\u001b[38;5;33mDropout\u001b[0m)             │ (\u001b[38;5;45mNone\u001b[0m, \u001b[38;5;34m128\u001b[0m)            │             \u001b[38;5;34m0\u001b[0m │\n",
       "├─────────────────────────────────┼────────────────────────┼───────────────┤\n",
       "│ dense (\u001b[38;5;33mDense\u001b[0m)                   │ (\u001b[38;5;45mNone\u001b[0m, \u001b[38;5;34m64\u001b[0m)             │         \u001b[38;5;34m8,256\u001b[0m │\n",
       "├─────────────────────────────────┼────────────────────────┼───────────────┤\n",
       "│ dropout_2 (\u001b[38;5;33mDropout\u001b[0m)             │ (\u001b[38;5;45mNone\u001b[0m, \u001b[38;5;34m64\u001b[0m)             │             \u001b[38;5;34m0\u001b[0m │\n",
       "├─────────────────────────────────┼────────────────────────┼───────────────┤\n",
       "│ dense_1 (\u001b[38;5;33mDense\u001b[0m)                 │ (\u001b[38;5;45mNone\u001b[0m, \u001b[38;5;34m5\u001b[0m)              │           \u001b[38;5;34m325\u001b[0m │\n",
       "└─────────────────────────────────┴────────────────────────┴───────────────┘\n"
      ]
     },
     "metadata": {},
     "output_type": "display_data"
    },
    {
     "data": {
      "text/html": [
       "<pre style=\"white-space:pre;overflow-x:auto;line-height:normal;font-family:Menlo,'DejaVu Sans Mono',consolas,'Courier New',monospace\"><span style=\"font-weight: bold\"> Total params: </span><span style=\"color: #00af00; text-decoration-color: #00af00\">311,185</span> (1.19 MB)\n",
       "</pre>\n"
      ],
      "text/plain": [
       "\u001b[1m Total params: \u001b[0m\u001b[38;5;34m311,185\u001b[0m (1.19 MB)\n"
      ]
     },
     "metadata": {},
     "output_type": "display_data"
    },
    {
     "data": {
      "text/html": [
       "<pre style=\"white-space:pre;overflow-x:auto;line-height:normal;font-family:Menlo,'DejaVu Sans Mono',consolas,'Courier New',monospace\"><span style=\"font-weight: bold\"> Trainable params: </span><span style=\"color: #00af00; text-decoration-color: #00af00\">311,185</span> (1.19 MB)\n",
       "</pre>\n"
      ],
      "text/plain": [
       "\u001b[1m Trainable params: \u001b[0m\u001b[38;5;34m311,185\u001b[0m (1.19 MB)\n"
      ]
     },
     "metadata": {},
     "output_type": "display_data"
    },
    {
     "data": {
      "text/html": [
       "<pre style=\"white-space:pre;overflow-x:auto;line-height:normal;font-family:Menlo,'DejaVu Sans Mono',consolas,'Courier New',monospace\"><span style=\"font-weight: bold\"> Non-trainable params: </span><span style=\"color: #00af00; text-decoration-color: #00af00\">0</span> (0.00 B)\n",
       "</pre>\n"
      ],
      "text/plain": [
       "\u001b[1m Non-trainable params: \u001b[0m\u001b[38;5;34m0\u001b[0m (0.00 B)\n"
      ]
     },
     "metadata": {},
     "output_type": "display_data"
    }
   ],
   "source": [
    "# 모델\n",
    "seq_len, n_feat = Xtr.shape[1], Xtr.shape[2]\n",
    "model = build_lstm_model(seq_len, n_feat, n_classes=len(CLS_LEVELS))\n",
    "model.summary()"
   ]
  },
  {
   "cell_type": "markdown",
   "id": "a3304fd2",
   "metadata": {},
   "source": [
    "### 학습."
   ]
  },
  {
   "cell_type": "code",
   "execution_count": 22,
   "id": "4d9730bc",
   "metadata": {},
   "outputs": [
    {
     "name": "stdout",
     "output_type": "stream",
     "text": [
      "class_weight: {2: 1.490357142857143, 3: 1.671875, 4: 0.43723805532271587, 1: 2.2532397408207343}\n"
     ]
    }
   ],
   "source": [
    "# 클래스 불균형 가중치(선택)\n",
    "counts = Counter([LEVEL_TO_INDEX[int(v)] for v in ytr])\n",
    "total = sum(counts.values())\n",
    "class_weight = {i: total / (len(counts) * counts[i]) for i in counts}\n",
    "print(\"class_weight:\", class_weight)"
   ]
  },
  {
   "cell_type": "code",
   "execution_count": 23,
   "id": "512af00f",
   "metadata": {},
   "outputs": [],
   "source": [
    "# 콜백\n",
    "cbs = [\n",
    "    callbacks.ModelCheckpoint(\"best_lstm.keras\", monitor=\"val_loss\", save_best_only=True),\n",
    "    callbacks.ReduceLROnPlateau(monitor=\"val_loss\", factor=0.5, patience=3),\n",
    "    callbacks.EarlyStopping(monitor=\"val_loss\", patience=7, restore_best_weights=True),\n",
    "]"
   ]
  },
  {
   "cell_type": "code",
   "execution_count": 24,
   "id": "8c2e41f2",
   "metadata": {},
   "outputs": [
    {
     "name": "stdout",
     "output_type": "stream",
     "text": [
      "Epoch 1/30\n"
     ]
    },
    {
     "name": "stdout",
     "output_type": "stream",
     "text": [
      "\u001b[1m66/66\u001b[0m \u001b[32m━━━━━━━━━━━━━━━━━━━━\u001b[0m\u001b[37m\u001b[0m \u001b[1m17s\u001b[0m 223ms/step - accuracy: 0.4019 - loss: 1.3033 - val_accuracy: 0.4668 - val_loss: 1.2200 - learning_rate: 0.0010\n",
      "Epoch 2/30\n",
      "\u001b[1m66/66\u001b[0m \u001b[32m━━━━━━━━━━━━━━━━━━━━\u001b[0m\u001b[37m\u001b[0m \u001b[1m14s\u001b[0m 208ms/step - accuracy: 0.6227 - loss: 0.9445 - val_accuracy: 0.4826 - val_loss: 1.0353 - learning_rate: 0.0010\n",
      "Epoch 3/30\n",
      "\u001b[1m66/66\u001b[0m \u001b[32m━━━━━━━━━━━━━━━━━━━━\u001b[0m\u001b[37m\u001b[0m \u001b[1m14s\u001b[0m 214ms/step - accuracy: 0.5808 - loss: 0.9506 - val_accuracy: 0.6528 - val_loss: 0.7899 - learning_rate: 0.0010\n",
      "Epoch 4/30\n",
      "\u001b[1m66/66\u001b[0m \u001b[32m━━━━━━━━━━━━━━━━━━━━\u001b[0m\u001b[37m\u001b[0m \u001b[1m14s\u001b[0m 213ms/step - accuracy: 0.6414 - loss: 0.8745 - val_accuracy: 0.6528 - val_loss: 0.7874 - learning_rate: 0.0010\n",
      "Epoch 5/30\n",
      "\u001b[1m66/66\u001b[0m \u001b[32m━━━━━━━━━━━━━━━━━━━━\u001b[0m\u001b[37m\u001b[0m \u001b[1m14s\u001b[0m 214ms/step - accuracy: 0.6298 - loss: 0.8516 - val_accuracy: 0.6213 - val_loss: 0.7566 - learning_rate: 0.0010\n",
      "Epoch 6/30\n",
      "\u001b[1m66/66\u001b[0m \u001b[32m━━━━━━━━━━━━━━━━━━━━\u001b[0m\u001b[37m\u001b[0m \u001b[1m14s\u001b[0m 208ms/step - accuracy: 0.6372 - loss: 0.8418 - val_accuracy: 0.4504 - val_loss: 1.2004 - learning_rate: 0.0010\n",
      "Epoch 7/30\n",
      "\u001b[1m66/66\u001b[0m \u001b[32m━━━━━━━━━━━━━━━━━━━━\u001b[0m\u001b[37m\u001b[0m \u001b[1m14s\u001b[0m 209ms/step - accuracy: 0.6373 - loss: 0.8199 - val_accuracy: 0.6036 - val_loss: 0.9511 - learning_rate: 0.0010\n",
      "Epoch 8/30\n",
      "\u001b[1m66/66\u001b[0m \u001b[32m━━━━━━━━━━━━━━━━━━━━\u001b[0m\u001b[37m\u001b[0m \u001b[1m14s\u001b[0m 210ms/step - accuracy: 0.6788 - loss: 0.7821 - val_accuracy: 0.6200 - val_loss: 0.8108 - learning_rate: 0.0010\n",
      "Epoch 9/30\n",
      "\u001b[1m66/66\u001b[0m \u001b[32m━━━━━━━━━━━━━━━━━━━━\u001b[0m\u001b[37m\u001b[0m \u001b[1m14s\u001b[0m 211ms/step - accuracy: 0.6977 - loss: 0.7207 - val_accuracy: 0.6685 - val_loss: 0.7776 - learning_rate: 5.0000e-04\n",
      "Epoch 10/30\n",
      "\u001b[1m66/66\u001b[0m \u001b[32m━━━━━━━━━━━━━━━━━━━━\u001b[0m\u001b[37m\u001b[0m \u001b[1m14s\u001b[0m 212ms/step - accuracy: 0.6969 - loss: 0.7141 - val_accuracy: 0.5509 - val_loss: 1.1078 - learning_rate: 5.0000e-04\n",
      "Epoch 11/30\n",
      "\u001b[1m66/66\u001b[0m \u001b[32m━━━━━━━━━━━━━━━━━━━━\u001b[0m\u001b[37m\u001b[0m \u001b[1m14s\u001b[0m 213ms/step - accuracy: 0.6890 - loss: 0.7540 - val_accuracy: 0.5619 - val_loss: 0.9139 - learning_rate: 5.0000e-04\n",
      "Epoch 12/30\n",
      "\u001b[1m66/66\u001b[0m \u001b[32m━━━━━━━━━━━━━━━━━━━━\u001b[0m\u001b[37m\u001b[0m \u001b[1m14s\u001b[0m 212ms/step - accuracy: 0.6942 - loss: 0.6724 - val_accuracy: 0.6685 - val_loss: 0.7204 - learning_rate: 2.5000e-04\n",
      "Epoch 13/30\n",
      "\u001b[1m66/66\u001b[0m \u001b[32m━━━━━━━━━━━━━━━━━━━━\u001b[0m\u001b[37m\u001b[0m \u001b[1m14s\u001b[0m 217ms/step - accuracy: 0.7022 - loss: 0.7083 - val_accuracy: 0.6705 - val_loss: 0.6818 - learning_rate: 2.5000e-04\n",
      "Epoch 14/30\n",
      "\u001b[1m66/66\u001b[0m \u001b[32m━━━━━━━━━━━━━━━━━━━━\u001b[0m\u001b[37m\u001b[0m \u001b[1m14s\u001b[0m 209ms/step - accuracy: 0.7298 - loss: 0.6323 - val_accuracy: 0.6487 - val_loss: 0.7549 - learning_rate: 2.5000e-04\n",
      "Epoch 15/30\n",
      "\u001b[1m66/66\u001b[0m \u001b[32m━━━━━━━━━━━━━━━━━━━━\u001b[0m\u001b[37m\u001b[0m \u001b[1m14s\u001b[0m 211ms/step - accuracy: 0.7515 - loss: 0.6223 - val_accuracy: 0.6206 - val_loss: 0.7914 - learning_rate: 2.5000e-04\n",
      "Epoch 16/30\n",
      "\u001b[1m66/66\u001b[0m \u001b[32m━━━━━━━━━━━━━━━━━━━━\u001b[0m\u001b[37m\u001b[0m \u001b[1m14s\u001b[0m 213ms/step - accuracy: 0.7121 - loss: 0.6586 - val_accuracy: 0.6316 - val_loss: 0.7746 - learning_rate: 2.5000e-04\n",
      "Epoch 17/30\n",
      "\u001b[1m66/66\u001b[0m \u001b[32m━━━━━━━━━━━━━━━━━━━━\u001b[0m\u001b[37m\u001b[0m \u001b[1m14s\u001b[0m 212ms/step - accuracy: 0.7308 - loss: 0.6122 - val_accuracy: 0.6535 - val_loss: 0.7594 - learning_rate: 1.2500e-04\n",
      "Epoch 18/30\n",
      "\u001b[1m66/66\u001b[0m \u001b[32m━━━━━━━━━━━━━━━━━━━━\u001b[0m\u001b[37m\u001b[0m \u001b[1m14s\u001b[0m 211ms/step - accuracy: 0.7539 - loss: 0.5952 - val_accuracy: 0.6931 - val_loss: 0.6897 - learning_rate: 1.2500e-04\n",
      "Epoch 19/30\n",
      "\u001b[1m66/66\u001b[0m \u001b[32m━━━━━━━━━━━━━━━━━━━━\u001b[0m\u001b[37m\u001b[0m \u001b[1m14s\u001b[0m 212ms/step - accuracy: 0.7582 - loss: 0.5673 - val_accuracy: 0.6439 - val_loss: 0.7727 - learning_rate: 1.2500e-04\n",
      "Epoch 20/30\n",
      "\u001b[1m66/66\u001b[0m \u001b[32m━━━━━━━━━━━━━━━━━━━━\u001b[0m\u001b[37m\u001b[0m \u001b[1m14s\u001b[0m 213ms/step - accuracy: 0.7336 - loss: 0.7336 - val_accuracy: 0.5878 - val_loss: 0.8272 - learning_rate: 6.2500e-05\n"
     ]
    }
   ],
   "source": [
    "# 학습\n",
    "history = model.fit(\n",
    "    ds_tr,\n",
    "    validation_data=ds_va,\n",
    "    epochs=30,\n",
    "    class_weight=class_weight,\n",
    "    callbacks=cbs,\n",
    "    verbose=1,\n",
    ")"
   ]
  },
  {
   "cell_type": "markdown",
   "id": "0fff137f",
   "metadata": {},
   "source": [
    "#### 평가"
   ]
  },
  {
   "cell_type": "code",
   "execution_count": 25,
   "id": "29834505",
   "metadata": {},
   "outputs": [
    {
     "name": "stdout",
     "output_type": "stream",
     "text": [
      "[VAL] loss=0.6818, acc=0.6705\n"
     ]
    }
   ],
   "source": [
    "# 평가\n",
    "eval_res = model.evaluate(ds_va, verbose=0)\n",
    "print(f\"[VAL] loss={eval_res[0]:.4f}, acc={eval_res[1]:.4f}\")"
   ]
  },
  {
   "cell_type": "code",
   "execution_count": 26,
   "id": "41e2f936",
   "metadata": {},
   "outputs": [
    {
     "name": "stdout",
     "output_type": "stream",
     "text": [
      "              precision    recall  f1-score   support\n",
      "\n",
      "           0       0.79      0.96      0.87       179\n",
      "           1       0.56      0.73      0.64       282\n",
      "           2       0.30      0.34      0.32       271\n",
      "           3       0.90      0.70      0.79       731\n",
      "\n",
      "    accuracy                           0.67      1463\n",
      "   macro avg       0.64      0.68      0.65      1463\n",
      "weighted avg       0.71      0.67      0.68      1463\n",
      "\n",
      "Confusion matrix:\n",
      " [[171   5   2   1]\n",
      " [ 29 207  38   8]\n",
      " [ 11 120  93  47]\n",
      " [  5  37 179 510]]\n"
     ]
    }
   ],
   "source": [
    "# 예측 샘플 & 혼동행렬\n",
    "y_true = np.array([y for _, y in ds_va.unbatch().as_numpy_iterator()])\n",
    "# y_true = np.concatenate([y for _, y in ds_va.unbatch().as_numpy_iterator()], axis=0)\n",
    "y_pred = []\n",
    "for xb, _ in ds_va:\n",
    "    pb = model.predict(xb, verbose=0)\n",
    "    y_pred.append(np.argmax(pb, axis=1))\n",
    "    # y_pred.append(np.argmax(pb.numpy(), axis=1))\n",
    "y_pred = np.concatenate(y_pred, axis=0)\n",
    "\n",
    "# 간단 리포트\n",
    "from sklearn.metrics import classification_report, confusion_matrix\n",
    "labels = sorted(set(y_true) | set(y_pred))  # 실제 등장한 클래스\n",
    "print(classification_report(\n",
    "    y_true, y_pred,\n",
    "    labels=labels,\n",
    "    target_names=[str(INDEX_TO_LEVEL[i]) for i in labels]\n",
    "))\n",
    "\n",
    "#print(classification_report(y_true, y_pred, target_names=[str(INDEX_TO_LEVEL[i]) for i in range(len(CLS_LEVELS))]))\n",
    "print(\"Confusion matrix:\\n\", confusion_matrix(y_true, y_pred))"
   ]
  },
  {
   "cell_type": "code",
   "execution_count": 29,
   "id": "cd396d71",
   "metadata": {},
   "outputs": [
    {
     "name": "stdout",
     "output_type": "stream",
     "text": [
      "✔ 저장: best_lstm.keras, scaler_mean_std.npz, feature_cols.txt\n"
     ]
    }
   ],
   "source": [
    "# 산출물 저장\n",
    "np.savez(\"scaler_mean_std.npz\", mean=mean, std=std)\n",
    "with open(\"feature_cols.txt\", \"w\") as f:\n",
    "    f.write(\"\\n\".join(FEATURE_COLS))\n",
    "print(\"✔ 저장: best_lstm.keras, scaler_mean_std.npz, feature_cols.txt\")"
   ]
  },
  {
   "cell_type": "code",
   "execution_count": 30,
   "id": "ca72161c",
   "metadata": {},
   "outputs": [],
   "source": [
    "# === artifacts_io.py ===\n",
    "from __future__ import annotations\n",
    "import json, pickle\n",
    "from pathlib import Path\n",
    "from typing import Any, Dict\n",
    "\n",
    "def save_model_artifacts(\n",
    "    export_dir: str | Path,\n",
    "    tf_model,                    # tf.keras.Model\n",
    "    scaler=None,                 # e.g., sklearn.preprocessing.StandardScaler\n",
    "    label_encoder=None,          # e.g., sklearn.preprocessing.LabelEncoder\n",
    "    meta: Dict[str, Any] | None = None\n",
    "):\n",
    "    export_dir = Path(export_dir)\n",
    "    export_dir.mkdir(parents=True, exist_ok=True)\n",
    "\n",
    "    # 1) TF 모델 저장 (SavedModel 형식 권장)\n",
    "    model_dir = export_dir / \"saved_model\"\n",
    "    tf_model.save(model_dir)  # creates saved_model.pb + variables/\n",
    "\n",
    "    # 2) 전처리기 저장\n",
    "    if scaler is not None:\n",
    "        with open(export_dir / \"scaler.pkl\", \"wb\") as f:\n",
    "            pickle.dump(scaler, f)\n",
    "    if label_encoder is not None:\n",
    "        with open(export_dir / \"label_encoder.pkl\", \"wb\") as f:\n",
    "            pickle.dump(label_encoder, f)\n",
    "\n",
    "    # 3) 메타데이터 저장 (필수 하이퍼파라미터/특성 순서/윈도우 크기 등)\n",
    "    meta = dict(meta or {})\n",
    "    # 예: 모델이 기대하는 입력 특성명/순서 & 윈도우 길이\n",
    "    meta.setdefault(\"feature_order\", [\n",
    "        \"EAR\", \"MAR\",\n",
    "        \"yawn_rate_per_min\", \"blink_rate_per_min\",\n",
    "        \"avg_blink_dur_sec\", \"longest_eye_closure_sec\",\n",
    "    ])\n",
    "    meta.setdefault(\"seq_len\", 50)  # 예: 30fps 기준 ~1.6초/ 또는 5초 윈도(=150) 등\n",
    "    meta.setdefault(\"fps\", 30)\n",
    "    meta.setdefault(\"window_sec\", 5.0)\n",
    "    meta.setdefault(\"hop_sec\", 1.0)\n",
    "    with open(export_dir / \"meta.json\", \"w\", encoding=\"utf-8\") as f:\n",
    "        json.dump(meta, f, ensure_ascii=False, indent=2)\n",
    "\n",
    "    print(f\"[save] Artifacts saved to: {export_dir}\")\n"
   ]
  },
  {
   "cell_type": "code",
   "execution_count": 34,
   "id": "37ab0376",
   "metadata": {},
   "outputs": [
    {
     "ename": "ValueError",
     "evalue": "Invalid filepath extension for saving. Please add either a `.keras` extension for the native Keras format (recommended) or a `.h5` extension. Use `model.export(filepath)` if you want to export a SavedModel for use with TFLite/TFServing/etc. Received: filepath=export/zoligima_lstm_v1/saved_model.",
     "output_type": "error",
     "traceback": [
      "\u001b[31m---------------------------------------------------------------------------\u001b[39m",
      "\u001b[31mValueError\u001b[39m                                Traceback (most recent call last)",
      "\u001b[36mCell\u001b[39m\u001b[36m \u001b[39m\u001b[32mIn[34]\u001b[39m\u001b[32m, line 19\u001b[39m\n\u001b[32m      2\u001b[39m export_dir = \u001b[33m\"\u001b[39m\u001b[33m./export/zoligima_lstm_v1\u001b[39m\u001b[33m\"\u001b[39m\n\u001b[32m      3\u001b[39m meta = {\n\u001b[32m      4\u001b[39m     \u001b[33m\"\u001b[39m\u001b[33mfeature_order\u001b[39m\u001b[33m\"\u001b[39m: [\n\u001b[32m      5\u001b[39m         \u001b[33m\"\u001b[39m\u001b[33mEAR\u001b[39m\u001b[33m\"\u001b[39m,\n\u001b[32m   (...)\u001b[39m\u001b[32m     17\u001b[39m     \u001b[33m\"\u001b[39m\u001b[33mmodel_type\u001b[39m\u001b[33m\"\u001b[39m: \u001b[33m\"\u001b[39m\u001b[33mLSTM\u001b[39m\u001b[33m\"\u001b[39m,\n\u001b[32m     18\u001b[39m }\n\u001b[32m---> \u001b[39m\u001b[32m19\u001b[39m \u001b[43msave_model_artifacts\u001b[49m\u001b[43m(\u001b[49m\u001b[43mexport_dir\u001b[49m\u001b[43m,\u001b[49m\u001b[43m \u001b[49m\u001b[43mmodel\u001b[49m\u001b[43m,\u001b[49m\u001b[43m \u001b[49m\u001b[38;5;28;43;01mNone\u001b[39;49;00m\u001b[43m,\u001b[49m\u001b[43m \u001b[49m\u001b[38;5;28;43;01mNone\u001b[39;49;00m\u001b[43m,\u001b[49m\u001b[43m \u001b[49m\u001b[43mmeta\u001b[49m\u001b[43m)\u001b[49m\n",
      "\u001b[36mCell\u001b[39m\u001b[36m \u001b[39m\u001b[32mIn[30]\u001b[39m\u001b[32m, line 19\u001b[39m, in \u001b[36msave_model_artifacts\u001b[39m\u001b[34m(export_dir, tf_model, scaler, label_encoder, meta)\u001b[39m\n\u001b[32m     17\u001b[39m \u001b[38;5;66;03m# 1) TF 모델 저장 (SavedModel 형식 권장)\u001b[39;00m\n\u001b[32m     18\u001b[39m model_dir = export_dir / \u001b[33m\"\u001b[39m\u001b[33msaved_model\u001b[39m\u001b[33m\"\u001b[39m\n\u001b[32m---> \u001b[39m\u001b[32m19\u001b[39m \u001b[43mtf_model\u001b[49m\u001b[43m.\u001b[49m\u001b[43msave\u001b[49m\u001b[43m(\u001b[49m\u001b[43mmodel_dir\u001b[49m\u001b[43m)\u001b[49m  \u001b[38;5;66;03m# creates saved_model.pb + variables/\u001b[39;00m\n\u001b[32m     21\u001b[39m \u001b[38;5;66;03m# 2) 전처리기 저장\u001b[39;00m\n\u001b[32m     22\u001b[39m \u001b[38;5;28;01mif\u001b[39;00m scaler \u001b[38;5;129;01mis\u001b[39;00m \u001b[38;5;129;01mnot\u001b[39;00m \u001b[38;5;28;01mNone\u001b[39;00m:\n",
      "\u001b[36mFile \u001b[39m\u001b[32m/opt/anaconda3/envs/dlp/lib/python3.11/site-packages/keras/src/utils/traceback_utils.py:122\u001b[39m, in \u001b[36mfilter_traceback.<locals>.error_handler\u001b[39m\u001b[34m(*args, **kwargs)\u001b[39m\n\u001b[32m    119\u001b[39m     filtered_tb = _process_traceback_frames(e.__traceback__)\n\u001b[32m    120\u001b[39m     \u001b[38;5;66;03m# To get the full stack trace, call:\u001b[39;00m\n\u001b[32m    121\u001b[39m     \u001b[38;5;66;03m# `keras.config.disable_traceback_filtering()`\u001b[39;00m\n\u001b[32m--> \u001b[39m\u001b[32m122\u001b[39m     \u001b[38;5;28;01mraise\u001b[39;00m e.with_traceback(filtered_tb) \u001b[38;5;28;01mfrom\u001b[39;00m\u001b[38;5;250m \u001b[39m\u001b[38;5;28;01mNone\u001b[39;00m\n\u001b[32m    123\u001b[39m \u001b[38;5;28;01mfinally\u001b[39;00m:\n\u001b[32m    124\u001b[39m     \u001b[38;5;28;01mdel\u001b[39;00m filtered_tb\n",
      "\u001b[36mFile \u001b[39m\u001b[32m/opt/anaconda3/envs/dlp/lib/python3.11/site-packages/keras/src/saving/saving_api.py:114\u001b[39m, in \u001b[36msave_model\u001b[39m\u001b[34m(model, filepath, overwrite, zipped, **kwargs)\u001b[39m\n\u001b[32m    110\u001b[39m \u001b[38;5;28;01mif\u001b[39;00m \u001b[38;5;28mstr\u001b[39m(filepath).endswith((\u001b[33m\"\u001b[39m\u001b[33m.h5\u001b[39m\u001b[33m\"\u001b[39m, \u001b[33m\"\u001b[39m\u001b[33m.hdf5\u001b[39m\u001b[33m\"\u001b[39m)):\n\u001b[32m    111\u001b[39m     \u001b[38;5;28;01mreturn\u001b[39;00m legacy_h5_format.save_model_to_hdf5(\n\u001b[32m    112\u001b[39m         model, filepath, overwrite, include_optimizer\n\u001b[32m    113\u001b[39m     )\n\u001b[32m--> \u001b[39m\u001b[32m114\u001b[39m \u001b[38;5;28;01mraise\u001b[39;00m \u001b[38;5;167;01mValueError\u001b[39;00m(\n\u001b[32m    115\u001b[39m     \u001b[33m\"\u001b[39m\u001b[33mInvalid filepath extension for saving. \u001b[39m\u001b[33m\"\u001b[39m\n\u001b[32m    116\u001b[39m     \u001b[33m\"\u001b[39m\u001b[33mPlease add either a `.keras` extension for the native Keras \u001b[39m\u001b[33m\"\u001b[39m\n\u001b[32m    117\u001b[39m     \u001b[33mf\u001b[39m\u001b[33m\"\u001b[39m\u001b[33mformat (recommended) or a `.h5` extension. \u001b[39m\u001b[33m\"\u001b[39m\n\u001b[32m    118\u001b[39m     \u001b[33m\"\u001b[39m\u001b[33mUse `model.export(filepath)` if you want to export a SavedModel \u001b[39m\u001b[33m\"\u001b[39m\n\u001b[32m    119\u001b[39m     \u001b[33m\"\u001b[39m\u001b[33mfor use with TFLite/TFServing/etc. \u001b[39m\u001b[33m\"\u001b[39m\n\u001b[32m    120\u001b[39m     \u001b[33mf\u001b[39m\u001b[33m\"\u001b[39m\u001b[33mReceived: filepath=\u001b[39m\u001b[38;5;132;01m{\u001b[39;00mfilepath\u001b[38;5;132;01m}\u001b[39;00m\u001b[33m.\u001b[39m\u001b[33m\"\u001b[39m\n\u001b[32m    121\u001b[39m )\n",
      "\u001b[31mValueError\u001b[39m: Invalid filepath extension for saving. Please add either a `.keras` extension for the native Keras format (recommended) or a `.h5` extension. Use `model.export(filepath)` if you want to export a SavedModel for use with TFLite/TFServing/etc. Received: filepath=export/zoligima_lstm_v1/saved_model."
     ]
    }
   ],
   "source": [
    "# ... 모델 학습 완료 후 ...\n",
    "export_dir = \"./export/zoligima_lstm_v1\"\n",
    "meta = {\n",
    "    \"feature_order\": [\n",
    "        \"EAR\",\n",
    "        \"MAR\",\n",
    "        \"yawn_rate_per_min\",\n",
    "        \"blink_rate_per_min\",\n",
    "        \"avg_blink_dur_sec\",\n",
    "        \"longest_eye_closure_sec\"\n",
    "   ],\n",
    "    \"seq_len\": 150,                # 학습에 사용한 시퀀스 길이\n",
    "    \"fps\": 30,\n",
    "    \"window_sec\": window_sec,\n",
    "    \"hop_sec\": hop_sec,\n",
    "    \"num_classes\": 5,\n",
    "    \"model_type\": \"LSTM\",\n",
    "}\n",
    "save_model_artifacts(export_dir, model, None, None, meta)"
   ]
  },
  {
   "cell_type": "code",
   "execution_count": 41,
   "id": "ab8aa2a0",
   "metadata": {},
   "outputs": [],
   "source": [
    "%run ./train_artifacts_patch.py\n",
    "\n"
   ]
  },
  {
   "cell_type": "code",
   "execution_count": 43,
   "id": "db2d587e",
   "metadata": {},
   "outputs": [
    {
     "name": "stdout",
     "output_type": "stream",
     "text": [
      "[save_artifacts] Saved model -> artifacts/drowny-v1/model.keras\n",
      "[save_artifacts] Saved meta -> artifacts/drowny-v1/meta.json\n",
      "[save_artifacts] DONE.\n"
     ]
    }
   ],
   "source": [
    "# from train_artifacts_patch import save_artifacts\n",
    "\n",
    "save_artifacts(\n",
    "    model,                          # tf.keras 모델\n",
    "    scaler=None,          # StandardScaler 등 (없으면 None)\n",
    "    feature_names=[\n",
    "        \"EAR\",\"MAR\",\"yawn_rate_per_min\",\"blink_rate_per_min\",\n",
    "        \"avg_blink_dur_sec\",\"longest_eye_closure_sec\"\n",
    "    ],                              # 모델이 기대하는 feature 순서\n",
    "    meta=dict(\n",
    "        project=\"drowny\",\n",
    "        version=\"v1\",\n",
    "        window_sec=5.0,             # 모델이 학습에 사용한 윈도 길이(초)\n",
    "        hop_sec=1.0,                # 슬라이딩 간격(초)\n",
    "        sampling_hz=30.0,           # 초당 샘플 수(프레임/메시지)\n",
    "        # seq_len은 자동 추정. 불명확하면 여기서 직접 지정 가능\n",
    "        label_map={\n",
    "            \"0\":\"awake\",\"1\":\"early_drowsy\",\"2\":\"drowsy\",\"3\":\"very_drowsy\"\n",
    "        }\n",
    "    ),\n",
    "    out_dir=\"artifacts/drowny-v1\"\n",
    ")"
   ]
  }
 ],
 "metadata": {
  "kernelspec": {
   "display_name": "dlp",
   "language": "python",
   "name": "python3"
  },
  "language_info": {
   "codemirror_mode": {
    "name": "ipython",
    "version": 3
   },
   "file_extension": ".py",
   "mimetype": "text/x-python",
   "name": "python",
   "nbconvert_exporter": "python",
   "pygments_lexer": "ipython3",
   "version": "3.11.13"
  }
 },
 "nbformat": 4,
 "nbformat_minor": 5
}
