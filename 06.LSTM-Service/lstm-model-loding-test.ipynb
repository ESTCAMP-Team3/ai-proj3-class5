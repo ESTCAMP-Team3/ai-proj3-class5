{
 "cells": [
  {
   "cell_type": "code",
   "execution_count": 1,
   "id": "ea087953",
   "metadata": {},
   "outputs": [],
   "source": [
    "import json\n",
    "import numpy as np\n",
    "import math\n",
    "from collections import deque\n",
    "import pandas as pd\n",
    "from confluent_kafka import Consumer, Producer, KafkaException, KafkaError\n",
    "import tensorflow as tf"
   ]
  },
  {
   "cell_type": "code",
   "execution_count": 2,
   "id": "10939e2f",
   "metadata": {},
   "outputs": [],
   "source": [
    "# 1. 모델 로드\n",
    "MODEL_PATH = \"model.keras\"\n",
    "model = tf.keras.models.load_model(MODEL_PATH)\n",
    "\n",
    "# 2. 스케일러(mean, std) 로드\n",
    "SCALER_PATH = \"scaler_mean_std.npz\"\n",
    "scaler_data = np.load(SCALER_PATH)\n",
    "mean = scaler_data[\"mean\"]\n",
    "std = scaler_data[\"std\"]"
   ]
  },
  {
   "cell_type": "code",
   "execution_count": 3,
   "id": "7ba5b9c5",
   "metadata": {},
   "outputs": [],
   "source": [
    "# =============================\n",
    "# 1. Kafka 설정\n",
    "# =============================\n",
    "kafka_conf = {\n",
    "    \"bootstrap.servers\": \"kafka.dongango.com:9094\",\n",
    "    \"group.id\": \"zolgima-test-consumer-group\",\n",
    "    \"enable.auto.commit\": False,\n",
    "    \"auto.offset.reset\": \"earliest\",\n",
    "    \"session.timeout.ms\": 45000\n",
    "}\n",
    "\n",
    "input_topic = \"sess-vjef3n2w-meuw8kp5\"\n",
    "output_topic = input_topic + \"-LSTM\"\n",
    "\n",
    "# level: -1,0,1,2,3  -> 총 5클래스. (-1 포함)\n",
    "CLS_LEVELS = [-1, 0, 1, 2, 3]"
   ]
  },
  {
   "cell_type": "code",
   "execution_count": 4,
   "id": "62862ae1",
   "metadata": {},
   "outputs": [],
   "source": [
    "FEATURE_COLS = [\"EAR\", \"MAR\", \"yawn_rate_per_min\", \"blink_rate_per_min\",\n",
    "                \"avg_blink_dur_sec\", \"longest_eye_closure_sec\"]\n",
    "\n",
    "SEQ_LEN = 150   # 5초 @ 30fps\n",
    "HOP = 30        # 1초 단위 슬라이딩"
   ]
  },
  {
   "cell_type": "code",
   "execution_count": 5,
   "id": "8b4bd76f",
   "metadata": {},
   "outputs": [],
   "source": [
    "def fit_standardizer(X: np.ndarray):\n",
    "    \"\"\"\n",
    "    채널별 표준화 스케일러(평균/표준편차) 반환.\n",
    "    \"\"\"\n",
    "    # X shape: (N, T, C)\n",
    "    mean = X.reshape(-1, X.shape[-1]).mean(axis=0)\n",
    "    std = X.reshape(-1, X.shape[-1]).std(axis=0)\n",
    "    std = np.where(std < 1e-8, 1.0, std)\n",
    "    return mean.astype(np.float32), std.astype(np.float32)\n",
    "\n",
    "def apply_standardizer(X: np.ndarray, mean: np.ndarray, std: np.ndarray):\n",
    "    return (X - mean) / std"
   ]
  },
  {
   "cell_type": "code",
   "execution_count": 6,
   "id": "0bb97232",
   "metadata": {},
   "outputs": [],
   "source": [
    "# =============================\n",
    "# 4. 윈도우 버퍼 (deque 사용)\n",
    "# =============================\n",
    "\n",
    "def preprocess_value(value_dict):\n",
    "    \"\"\"필요한 feature만 뽑아 float 배열로 변환\"\"\"\n",
    "    return [0.0 if pd.isna(value_dict.get(col, np.nan)) else float(value_dict.get(col, np.nan)) for col in FEATURE_COLS]\n",
    "\n",
    "def predict_and_publish(producer, model, output_topic, window, frame_numbers):\n",
    "    \"\"\"버퍼에서 예측 후 Kafka publish\"\"\"\n",
    "    X = np.array(window).reshape(1, SEQ_LEN, len(FEATURE_COLS))\n",
    "        \n",
    "        # ✅ 표준화 적용\n",
    "    mean, std = fit_standardizer(X)\n",
    "    X = apply_standardizer(X, mean, std)\n",
    "\n",
    "    y_pred = model.predict(X, verbose=0)\n",
    "    class_index = int(np.argmax(y_pred, axis=1)[0])   # multi-class softmax 결과\n",
    "    drowny_level = CLS_LEVELS[class_index]\n",
    "        \n",
    "    result = {\n",
    "        \"frame\": int(frame_numbers[-1]),  # 마지막 frame 번호\n",
    "        \"drowny-level\": drowny_level\n",
    "    }\n",
    "        \n",
    "    producer.produce(\n",
    "        output_topic,\n",
    "        key=\"drowny-lstm-result\",\n",
    "        value=json.dumps(result)\n",
    "    )\n",
    "    producer.flush()\n",
    "    print(\"Published:\", result)"
   ]
  },
  {
   "cell_type": "code",
   "execution_count": 7,
   "id": "76ca73b9",
   "metadata": {},
   "outputs": [
    {
     "name": "stdout",
     "output_type": "stream",
     "text": [
      "[0.3197801223283421, 0.006035359592953227, 0.0, 0.0, 0.0, 0.0]\n"
     ]
    }
   ],
   "source": [
    "# 사용 예시\n",
    "input_data = {\n",
    "    \"topic\" : \"sess-9kt6byvo-mev3xjib\",\n",
    "    \"frame\" : 2,\n",
    "    \"source_idx\" : 2,\n",
    "    \"timestamp_ms\" : 1756367650176,\n",
    "    \"rel_time_sec\" : 0.033333,\n",
    "    \"metrics\" : {\n",
    "        \"label_name\" : \"eyes_state/open\",\n",
    "        \"EAR\" : 0.3197801223283421,\n",
    "        \"MAR\" : 0.006035359592953227,\n",
    "        \"yawn_rate_per_min\" : 0,\n",
    "        \"blink_rate_per_min\" : 0,\n",
    "        \"avg_blink_dur_sec\" : float(\"NaN\"),\n",
    "        \"longest_eye_closure_sec\" : float(\"NaN\"),\n",
    "        \"ear_left\" : 0.3188832691201519,\n",
    "        \"ear_right\" : 0.3206769755365323,\n",
    "        \"ear_mean\" : 0.3197801223283421,\n",
    "        \"mar\" : 0.006035359592953227,\n",
    "        \"face_found\" : True\n",
    "    }\n",
    "}\n",
    "\n",
    "result = preprocess_value(input_data['metrics'])\n",
    "print(result)"
   ]
  },
  {
   "cell_type": "code",
   "execution_count": 8,
   "id": "48712bfe",
   "metadata": {},
   "outputs": [
    {
     "name": "stdout",
     "output_type": "stream",
     "text": [
      "Published: {'frame': 150, 'drowny-level': -1}\n",
      "Published: {'frame': 180, 'drowny-level': 1}\n",
      "Published: {'frame': 210, 'drowny-level': 0}\n",
      "Published: {'frame': 240, 'drowny-level': 0}\n",
      "Published: {'frame': 270, 'drowny-level': 0}\n",
      "Published: {'frame': 300, 'drowny-level': -1}\n",
      "Published: {'frame': 330, 'drowny-level': -1}\n",
      "Published: {'frame': 360, 'drowny-level': -1}\n",
      "Published: {'frame': 390, 'drowny-level': 3}\n",
      "Published: {'frame': 420, 'drowny-level': 0}\n",
      "Published: {'frame': 450, 'drowny-level': 1}\n",
      "Published: {'frame': 480, 'drowny-level': 0}\n",
      "Published: {'frame': 510, 'drowny-level': 0}\n",
      "Published: {'frame': 540, 'drowny-level': 0}\n",
      "Published: {'frame': 570, 'drowny-level': 0}\n",
      "Published: {'frame': 600, 'drowny-level': 2}\n",
      "Published: {'frame': 630, 'drowny-level': 2}\n",
      "Stopped by user\n",
      "Closing consumer...\n"
     ]
    }
   ],
   "source": [
    "# =============================\n",
    "# 4. 스트리밍 loop\n",
    "# =============================\n",
    "window = deque(maxlen=SEQ_LEN)\n",
    "frame_numbers = deque(maxlen=SEQ_LEN)\n",
    "CLS_LEVELS = [-1, 0, 1, 2, 3]\n",
    "\n",
    "consumer = Consumer(kafka_conf)\n",
    "consumer.subscribe([input_topic])\n",
    "\n",
    "producer = Producer({\"bootstrap.servers\": kafka_conf[\"bootstrap.servers\"]})\n",
    "\n",
    "try:\n",
    "    while True:\n",
    "        msg = consumer.poll(1.0)\n",
    "        if msg is None:\n",
    "            continue\n",
    "        if msg.error():\n",
    "           if msg.error().code() == KafkaError._PARTITION_EOF:\n",
    "                    continue\n",
    "           raise KafkaException(msg.error())\n",
    "        \n",
    "        value = json.loads(msg.value().decode(\"utf-8\"))\n",
    "        frame_no = int(value.get(\"frame\"))\n",
    "\n",
    "        # 순서 체크 (frame 번호가 이전보다 작으면 skip)\n",
    "        if frame_numbers and frame_no <= frame_numbers[-1]:\n",
    "         continue\n",
    "\n",
    "        # feature 추출 및 버퍼에 저장\n",
    "        features = preprocess_value(value['metrics'])\n",
    "        window.append(features)\n",
    "        frame_numbers.append(frame_no)\n",
    "\n",
    "        # 윈도우가 다 차면 예측\n",
    "        if len(window) == SEQ_LEN:\n",
    "             predict_and_publish(producer, model, output_topic, window, frame_numbers)\n",
    "             # 1초(30 frame)씩 슬라이딩 → 앞부분 drop\n",
    "             for _ in range(HOP):\n",
    "                 if window:\n",
    "                     window.popleft()\n",
    "                     frame_numbers.popleft()\n",
    "\n",
    "except KeyboardInterrupt:\n",
    "    print(\"Stopped by user\")\n",
    "finally:\n",
    "    print(\"Closing consumer...\")\n",
    "    consumer.close()"
   ]
  }
 ],
 "metadata": {
  "kernelspec": {
   "display_name": "tf_env",
   "language": "python",
   "name": "python3"
  },
  "language_info": {
   "codemirror_mode": {
    "name": "ipython",
    "version": 3
   },
   "file_extension": ".py",
   "mimetype": "text/x-python",
   "name": "python",
   "nbconvert_exporter": "python",
   "pygments_lexer": "ipython3",
   "version": "3.12.9"
  }
 },
 "nbformat": 4,
 "nbformat_minor": 5
}
